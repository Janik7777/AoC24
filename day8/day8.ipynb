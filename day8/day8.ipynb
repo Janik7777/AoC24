{
 "cells": [
  {
   "cell_type": "markdown",
   "metadata": {},
   "source": [
    "# Day 8: Resonant Collinearity\n",
    "You find yourselves on the roof of a top-secret Easter Bunny installation.\n",
    "\n",
    "While The Historians do their thing, you take a look at the familiar huge antenna. Much to your surprise, it seems to have been reconfigured to emit a signal that makes people 0.1% more likely to buy Easter Bunny brand Imitation Mediocre Chocolate as a Christmas gift! Unthinkable!\n",
    "\n",
    "Scanning across the city, you find that there are actually many such antennas. Each antenna is tuned to a specific frequency indicated by a single lowercase letter, uppercase letter, or digit. You create a map (your puzzle input) of these antennas. For example:\n",
    "\n",
    "```\n",
    "............\n",
    "........0...\n",
    ".....0......\n",
    ".......0....\n",
    "....0.......\n",
    "......A.....\n",
    "............\n",
    "............\n",
    "........A...\n",
    ".........A..\n",
    "............\n",
    "............\n",
    "```\n",
    "\n",
    "The signal only applies its nefarious effect at specific antinodes based on the resonant frequencies of the antennas. In particular, an antinode occurs at any point that is perfectly in line with two antennas of the same frequency - but only when one of the antennas is twice as far away as the other. This means that for any pair of antennas with the same frequency, there are two antinodes, one on either side of them.\n",
    "\n",
    "So, for these two antennas with frequency a, they create the two antinodes marked with #:\n",
    "\n",
    "```\n",
    "..........\n",
    "...#......\n",
    "..........\n",
    "....a.....\n",
    "..........\n",
    ".....a....\n",
    "..........\n",
    "......#...\n",
    "..........\n",
    "..........\n",
    "```\n",
    "\n",
    "Adding a third antenna with the same frequency creates several more antinodes. It would ideally add four antinodes, but two are off the right side of the map, so instead it adds only two:\n",
    "\n",
    "```\n",
    "..........\n",
    "...#......\n",
    "#.........\n",
    "....a.....\n",
    "........a.\n",
    ".....a....\n",
    "..#.......\n",
    "......#...\n",
    "..........\n",
    "..........\n",
    "```\n",
    "\n",
    "Antennas with different frequencies don't create antinodes; A and a count as different frequencies. However, antinodes can occur at locations that contain antennas. In this diagram, the lone antenna with frequency capital A creates no antinodes but has a lowercase-a-frequency antinode at its location:\n",
    "\n",
    "```\n",
    "..........\n",
    "...#......\n",
    "#.........\n",
    "....a.....\n",
    "........a.\n",
    ".....a....\n",
    "..#.......\n",
    "......A...\n",
    "..........\n",
    "..........\n",
    "```\n",
    "\n",
    "The first example has antennas with two different frequencies, so the antinodes they create look like this, plus an antinode overlapping the topmost A-frequency antenna:\n",
    "\n",
    "```\n",
    "......#....#\n",
    "...#....0...\n",
    "....#0....#.\n",
    "..#....0....\n",
    "....0....#..\n",
    ".#....A.....\n",
    "...#........\n",
    "#......#....\n",
    "........A...\n",
    ".........A..\n",
    "..........#.\n",
    "..........#.\n",
    "```\n",
    "\n",
    "Because the topmost A-frequency antenna overlaps with a 0-frequency antinode, there are 14 total unique locations that contain an antinode within the bounds of the map.\n",
    "\n",
    "Calculate the impact of the signal. How many unique locations within the bounds of the map contain an antinode?"
   ]
  },
  {
   "cell_type": "code",
   "execution_count": 39,
   "metadata": {},
   "outputs": [],
   "source": [
    "from collections import defaultdict\n",
    "import numpy as np\n",
    "\n",
    "def result(inputfile):\n",
    "\n",
    "    antennas = defaultdict(list)\n",
    "\n",
    "    width = 0\n",
    "    hight = 0\n",
    "    with open(inputfile) as f:\n",
    "        for i, line in enumerate(f):\n",
    "            hight += 1\n",
    "            width = len(line.strip())\n",
    "            for j, char in enumerate(line.strip()):\n",
    "                if char != '.':\n",
    "                    antennas[char].append(np.array([i,j]))\n",
    "\n",
    "    antinodes = set()\n",
    "    for antennasOfChar in antennas.values():\n",
    "        for index_antenna_1 in range(1, len(antennasOfChar)):\n",
    "            for index_antenna_2 in range(index_antenna_1):\n",
    "                pos_1 = antennasOfChar[index_antenna_1]\n",
    "                pos_2 = antennasOfChar[index_antenna_2]\n",
    "\n",
    "                vector_from_1_to_2 = pos_2 - pos_1\n",
    "                antinode_1 = pos_2 + vector_from_1_to_2\n",
    "                antinode_2 = pos_1 - vector_from_1_to_2\n",
    "\n",
    "                if  0 <= antinode_1[0] and 0 <= antinode_1[1] and hight > antinode_1[0] and width > antinode_1[1]:\n",
    "                    antinodes.add(tuple(antinode_1))\n",
    "                if  0 <= antinode_2[0] and 0 <= antinode_2[1] and hight > antinode_2[0] and width > antinode_2[1]:\n",
    "                    antinodes.add(tuple(antinode_2))\n",
    "    \n",
    "    return len(antinodes)\n",
    "    "
   ]
  },
  {
   "cell_type": "code",
   "execution_count": 40,
   "metadata": {},
   "outputs": [
    {
     "data": {
      "text/plain": [
       "14"
      ]
     },
     "execution_count": 40,
     "metadata": {},
     "output_type": "execute_result"
    }
   ],
   "source": [
    "result(\"example-input.txt\")"
   ]
  },
  {
   "cell_type": "code",
   "execution_count": 41,
   "metadata": {},
   "outputs": [
    {
     "data": {
      "text/plain": [
       "400"
      ]
     },
     "execution_count": 41,
     "metadata": {},
     "output_type": "execute_result"
    }
   ],
   "source": [
    "result(\"input.txt\")"
   ]
  },
  {
   "cell_type": "markdown",
   "metadata": {},
   "source": [
    "# Part Two\n",
    "Watching over your shoulder as you work, one of The Historians asks if you took the effects of resonant harmonics into your calculations.\n",
    "\n",
    "Whoops!\n",
    "\n",
    "After updating your model, it turns out that an antinode occurs at any grid position exactly in line with at least two antennas of the same frequency, regardless of distance. This means that some of the new antinodes will occur at the position of each antenna (unless that antenna is the only one of its frequency).\n",
    "\n",
    "So, these three T-frequency antennas now create many antinodes:\n",
    "\n",
    "```\n",
    "T....#....\n",
    "...T......\n",
    ".T....#...\n",
    ".........#\n",
    "..#.......\n",
    "..........\n",
    "...#......\n",
    "..........\n",
    "....#.....\n",
    "..........\n",
    "```\n",
    "\n",
    "In fact, the three T-frequency antennas are all exactly in line with two antennas, so they are all also antinodes! This brings the total number of antinodes in the above example to 9.\n",
    "\n",
    "The original example now has 34 antinodes, including the antinodes that appear on every antenna:\n",
    "\n",
    "```\n",
    "##....#....#\n",
    ".#.#....0...\n",
    "..#.#0....#.\n",
    "..##...0....\n",
    "....0....#..\n",
    ".#...#A....#\n",
    "...#..#.....\n",
    "#....#.#....\n",
    "..#.....A...\n",
    "....#....A..\n",
    ".#........#.\n",
    "...#......##\n",
    "```\n",
    "\n",
    "Calculate the impact of the signal using this updated model. How many unique locations within the bounds of the map contain an antinode?\n",
    "\n"
   ]
  },
  {
   "cell_type": "code",
   "execution_count": 60,
   "metadata": {},
   "outputs": [],
   "source": [
    "def result2(inputfile):\n",
    "\n",
    "    antennas = defaultdict(list)\n",
    "\n",
    "    width = 0\n",
    "    hight = 0\n",
    "    with open(inputfile) as f:\n",
    "        for i, line in enumerate(f):\n",
    "            hight += 1\n",
    "            width = len(line.strip())\n",
    "            for j, char in enumerate(line.strip()):\n",
    "                if char != '.':\n",
    "                    antennas[char].append(np.array([i,j]))\n",
    "\n",
    "    antinodes = set()\n",
    "    for antennasOfChar in antennas.values():\n",
    "        for index_antenna_1 in range(1, len(antennasOfChar)):\n",
    "            for index_antenna_2 in range(index_antenna_1):\n",
    "                pos_1 = antennasOfChar[index_antenna_1]\n",
    "                pos_2 = antennasOfChar[index_antenna_2]\n",
    "                antinodes.add(tuple(pos_1))\n",
    "                antinodes.add(tuple(pos_2))\n",
    "\n",
    "                vector_from_1_to_2 = pos_2 - pos_1\n",
    "\n",
    "                do_next = True\n",
    "                current = pos_2.copy()\n",
    "                while do_next:\n",
    "                    current += vector_from_1_to_2\n",
    "                    if  0 <= current[0] and 0 <= current[1] and hight > current[0] and width > current[1]:\n",
    "                        antinodes.add(tuple(current))\n",
    "                    else:\n",
    "                        do_next = False\n",
    "\n",
    "                do_next = True\n",
    "                current = pos_1.copy()\n",
    "                while do_next:\n",
    "                    current -= vector_from_1_to_2\n",
    "                    if  0 <= current[0] and 0 <= current[1] and hight > current[0] and width > current[1]:\n",
    "                        antinodes.add(tuple(current))\n",
    "                    else:\n",
    "                        do_next = False\n",
    "    \n",
    "    return len(antinodes)"
   ]
  },
  {
   "cell_type": "code",
   "execution_count": 61,
   "metadata": {},
   "outputs": [
    {
     "data": {
      "text/plain": [
       "34"
      ]
     },
     "execution_count": 61,
     "metadata": {},
     "output_type": "execute_result"
    }
   ],
   "source": [
    "result2(\"example-input.txt\")"
   ]
  },
  {
   "cell_type": "code",
   "execution_count": 62,
   "metadata": {},
   "outputs": [
    {
     "data": {
      "text/plain": [
       "1280"
      ]
     },
     "execution_count": 62,
     "metadata": {},
     "output_type": "execute_result"
    }
   ],
   "source": [
    "result2(\"input.txt\")"
   ]
  }
 ],
 "metadata": {
  "kernelspec": {
   "display_name": "aoc_env",
   "language": "python",
   "name": "python3"
  },
  "language_info": {
   "codemirror_mode": {
    "name": "ipython",
    "version": 3
   },
   "file_extension": ".py",
   "mimetype": "text/x-python",
   "name": "python",
   "nbconvert_exporter": "python",
   "pygments_lexer": "ipython3",
   "version": "3.13.0"
  }
 },
 "nbformat": 4,
 "nbformat_minor": 2
}
