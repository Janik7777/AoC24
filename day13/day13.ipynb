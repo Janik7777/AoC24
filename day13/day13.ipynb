{
 "cells": [
  {
   "cell_type": "markdown",
   "metadata": {},
   "source": [
    "# Day 13: Claw Contraption\n",
    "Next up: the lobby of a resort on a tropical island. The Historians take a moment to admire the hexagonal floor tiles before spreading out.\n",
    "\n",
    "Fortunately, it looks like the resort has a new arcade! Maybe you can win some prizes from the claw machines?\n",
    "\n",
    "The claw machines here are a little unusual. Instead of a joystick or directional buttons to control the claw, these machines have two buttons labeled A and B. Worse, you can't just put in a token and play; it costs 3 tokens to push the A button and 1 token to push the B button.\n",
    "\n",
    "With a little experimentation, you figure out that each machine's buttons are configured to move the claw a specific amount to the right (along the X axis) and a specific amount forward (along the Y axis) each time that button is pressed.\n",
    "\n",
    "Each machine contains one prize; to win the prize, the claw must be positioned exactly above the prize on both the X and Y axes.\n",
    "\n",
    "You wonder: what is the smallest number of tokens you would have to spend to win as many prizes as possible? You assemble a list of every machine's button behavior and prize location (your puzzle input). For example:\n",
    "\n",
    "```\n",
    "Button A: X+94, Y+34\n",
    "Button B: X+22, Y+67\n",
    "Prize: X=8400, Y=5400\n",
    "\n",
    "Button A: X+26, Y+66\n",
    "Button B: X+67, Y+21\n",
    "Prize: X=12748, Y=12176\n",
    "\n",
    "Button A: X+17, Y+86\n",
    "Button B: X+84, Y+37\n",
    "Prize: X=7870, Y=6450\n",
    "\n",
    "Button A: X+69, Y+23\n",
    "Button B: X+27, Y+71\n",
    "Prize: X=18641, Y=10279\n",
    "```\n",
    "\n",
    "This list describes the button configuration and prize location of four different claw machines.\n",
    "\n",
    "For now, consider just the first claw machine in the list:\n",
    "\n",
    "- Pushing the machine's A button would move the claw 94 units along the X axis and 34 units along the Y axis.\n",
    "- Pushing the B button would move the claw 22 units along the X axis and 67 units along the Y axis.\n",
    "- The prize is located at X=8400, Y=5400; this means that from the claw's initial position, it would need to move exactly 8400 units along the X axis and exactly 5400 units along the Y axis to be perfectly aligned with the prize in this machine.\n",
    "\n",
    "The cheapest way to win the prize is by pushing the A button 80 times and the B button 40 times. This would line up the claw along the X axis (because 80 * 94 + 40 * 22 = 8400) and along the Y axis (because 80 * 34 + 40 * 67 = 5400). Doing this would cost 80 * 3 tokens for the A presses and 40*1 for the B presses, a total of 280 tokens.\n",
    "\n",
    "For the second and fourth claw machines, there is no combination of A and B presses that will ever win a prize.\n",
    "\n",
    "For the third claw machine, the cheapest way to win the prize is by pushing the A button 38 times and the B button 86 times. Doing this would cost a total of 200 tokens.\n",
    "\n",
    "So, the most prizes you could possibly win is two; the minimum tokens you would have to spend to win all (two) prizes is 480.\n",
    "\n",
    "You estimate that each button would need to be pressed no more than 100 times to win a prize. How else would someone be expected to play?\n",
    "\n",
    "Figure out how to win as many prizes as possible. What is the fewest tokens you would have to spend to win all possible prizes?"
   ]
  },
  {
   "cell_type": "code",
   "execution_count": 89,
   "metadata": {},
   "outputs": [],
   "source": [
    "def compute(a_x,a_y,b_x,b_y,prize_x,prize_y, tested_size = 100):\n",
    "    currentMin = tested_size * 1000\n",
    "    for k_a in range(0, tested_size + 1):\n",
    "        x_diff = prize_x - k_a * a_x\n",
    "        y_diff = prize_y - k_a * a_y\n",
    "        if x_diff < 0 or y_diff < 0:\n",
    "            break\n",
    "        if x_diff % b_x == 0 and y_diff % b_y == 0:\n",
    "            k_b_x = x_diff // b_x\n",
    "            k_b_y = y_diff // b_y\n",
    "            if k_b_x == k_b_y:\n",
    "                currentMin = min(currentMin, 3*k_a + k_b_x)\n",
    "    if currentMin != tested_size * 1000:\n",
    "        return currentMin \n",
    "    else:\n",
    "        return 0\n",
    "\n",
    "def result(inputfile):\n",
    "    result = 0\n",
    "    with open(inputfile) as f:\n",
    "        for j, line in enumerate(f):\n",
    "            i = j // 4\n",
    "            if j % 4 == 0:\n",
    "                splitsByPlus = line.split('+')\n",
    "                a_x = int(splitsByPlus[1].split(',')[0])\n",
    "                a_y = int(splitsByPlus[2])\n",
    "            if j % 4 == 1:\n",
    "                splitsByPlus = line.split('+')\n",
    "                b_x = int(splitsByPlus[1].split(',')[0])\n",
    "                b_y = int(splitsByPlus[2])\n",
    "            if j % 4 == 2:\n",
    "                splitsByEq = line.split('=')\n",
    "                prize_x = int(splitsByEq[1].split(',')[0])\n",
    "                prize_y = int(splitsByEq[2])\n",
    "                result += compute(a_x,a_y,b_x,b_y,prize_x,prize_y)\n",
    "    return result    \n"
   ]
  },
  {
   "cell_type": "code",
   "execution_count": 90,
   "metadata": {},
   "outputs": [
    {
     "data": {
      "text/plain": [
       "480"
      ]
     },
     "execution_count": 90,
     "metadata": {},
     "output_type": "execute_result"
    }
   ],
   "source": [
    "result(\"example-input.txt\")"
   ]
  },
  {
   "cell_type": "code",
   "execution_count": 91,
   "metadata": {},
   "outputs": [
    {
     "data": {
      "text/plain": [
       "29201"
      ]
     },
     "execution_count": 91,
     "metadata": {},
     "output_type": "execute_result"
    }
   ],
   "source": [
    "result(\"input.txt\")"
   ]
  },
  {
   "cell_type": "markdown",
   "metadata": {},
   "source": [
    "# Part Two\n",
    "As you go to win the first prize, you discover that the claw is nowhere near where you expected it would be. Due to a unit conversion error in your measurements, the position of every prize is actually 10000000000000 higher on both the X and Y axis!\n",
    "\n",
    "Add 10000000000000 to the X and Y position of every prize. After making this change, the example above would now look like this:\n",
    "\n",
    "```\n",
    "Button A: X+94, Y+34\n",
    "Button B: X+22, Y+67\n",
    "Prize: X=10000000008400, Y=10000000005400\n",
    "\n",
    "Button A: X+26, Y+66\n",
    "Button B: X+67, Y+21\n",
    "Prize: X=10000000012748, Y=10000000012176\n",
    "\n",
    "Button A: X+17, Y+86\n",
    "Button B: X+84, Y+37\n",
    "Prize: X=10000000007870, Y=10000000006450\n",
    "\n",
    "Button A: X+69, Y+23\n",
    "Button B: X+27, Y+71\n",
    "Prize: X=10000000018641, Y=10000000010279\n",
    "```\n",
    "\n",
    "Now, it is only possible to win a prize on the second and fourth claw machines. Unfortunately, it will take many more than 100 presses to do so.\n",
    "\n",
    "Using the corrected prize coordinates, figure out how to win as many prizes as possible. What is the fewest tokens you would have to spend to win all possible prizes?"
   ]
  },
  {
   "cell_type": "code",
   "execution_count": 108,
   "metadata": {},
   "outputs": [],
   "source": [
    "import math\n",
    "\n",
    "def result2(inputfile):\n",
    "    result = 0\n",
    "    with open(inputfile) as f:\n",
    "        for j, line in enumerate(f):\n",
    "            i = j // 4\n",
    "            if j % 4 == 0:\n",
    "                splitsByPlus = line.split('+')\n",
    "                a_x = int(splitsByPlus[1].split(',')[0])\n",
    "                a_y = int(splitsByPlus[2])\n",
    "            if j % 4 == 1:\n",
    "                splitsByPlus = line.split('+')\n",
    "                b_x = int(splitsByPlus[1].split(',')[0])\n",
    "                b_y = int(splitsByPlus[2])\n",
    "            if j % 4 == 2:\n",
    "                splitsByEq = line.split('=')\n",
    "                prize_x = 10000000000000 + int(splitsByEq[1].split(',')[0])\n",
    "                prize_y = 10000000000000 + int(splitsByEq[2])\n",
    "                \n",
    "                #print(result)\n",
    "                prize_diff = prize_x - prize_y\n",
    "                a_diff = a_x - a_y\n",
    "                b_diff = b_x - b_y\n",
    "                lcm = math.lcm(a_diff, b_diff)\n",
    "                if a_diff == 0:\n",
    "                    if (math.copysign(1, b_diff) == math.copysign(1, prize_diff)):\n",
    "                        if prize_diff % b_diff == 0:\n",
    "                            amount_bs = prize_diff // b_diff\n",
    "                            rest_prize_x = prize_x - amount_bs * b_x\n",
    "                            rest_prize_y = prize_y - amount_bs * b_y\n",
    "                            if rest_prize_x == rest_prize_y and rest_prize_x % a_x == 0:\n",
    "                                amount_as = rest_prize_x // a_x\n",
    "                                result += 3 * amount_as + amount_bs\n",
    "                    continue\n",
    "                if b_diff == 0:\n",
    "                    if (math.copysign(1, a_diff) == math.copysign(1, prize_diff)):\n",
    "                        if prize_diff % a_diff == 0:\n",
    "                            amount_as = prize_diff // a_diff\n",
    "                            rest_prize_x = prize_x - amount_as * a_x\n",
    "                            rest_prize_y = prize_y - amount_as * a_y\n",
    "                            if rest_prize_x == rest_prize_y and rest_prize_x % b_x == 0:\n",
    "                                amount_bs = rest_prize_x // b_x\n",
    "                                result += 3 * amount_as + amount_bs\n",
    "                    continue\n",
    "                if (math.copysign(1, a_diff) == math.copysign(1, b_diff)):\n",
    "                    continue\n",
    "\n",
    "                a_s_for_even = abs(lcm // a_diff)\n",
    "                b_s_for_even = abs(lcm // b_diff)\n",
    "                value_for_even = a_s_for_even * a_x + b_s_for_even * b_x\n",
    "\n",
    "                amount_values_for_even_9999999000000 = 9999999000000 // value_for_even\n",
    "\n",
    "                result_addition = 3 * amount_values_for_even_9999999000000 * a_s_for_even + amount_values_for_even_9999999000000 * b_s_for_even\n",
    "\n",
    "                rest_prize_x = prize_x - amount_values_for_even_9999999000000 * value_for_even\n",
    "                rest_prize_y = prize_y - amount_values_for_even_9999999000000 * value_for_even\n",
    "\n",
    "                rest_value = compute(a_x,a_y,b_x,b_y,rest_prize_x,rest_prize_y, 1000000)\n",
    "                if rest_value != 0:\n",
    "                    result += result_addition + rest_value\n",
    "\n",
    "    return result   "
   ]
  },
  {
   "cell_type": "markdown",
   "metadata": {},
   "source": [
    "Idea: One button always adds more to x than to y. The other always does the opposite.\n"
   ]
  },
  {
   "cell_type": "code",
   "execution_count": 109,
   "metadata": {},
   "outputs": [
    {
     "data": {
      "text/plain": [
       "875318608908"
      ]
     },
     "execution_count": 109,
     "metadata": {},
     "output_type": "execute_result"
    }
   ],
   "source": [
    "result2(\"example-input.txt\")"
   ]
  },
  {
   "cell_type": "code",
   "execution_count": 110,
   "metadata": {},
   "outputs": [
    {
     "data": {
      "text/plain": [
       "104140871044942"
      ]
     },
     "execution_count": 110,
     "metadata": {},
     "output_type": "execute_result"
    }
   ],
   "source": [
    "result2(\"input.txt\")"
   ]
  }
 ],
 "metadata": {
  "kernelspec": {
   "display_name": "aoc_env",
   "language": "python",
   "name": "python3"
  },
  "language_info": {
   "codemirror_mode": {
    "name": "ipython",
    "version": 3
   },
   "file_extension": ".py",
   "mimetype": "text/x-python",
   "name": "python",
   "nbconvert_exporter": "python",
   "pygments_lexer": "ipython3",
   "version": "3.13.0"
  }
 },
 "nbformat": 4,
 "nbformat_minor": 2
}
