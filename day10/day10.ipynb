{
 "cells": [
  {
   "cell_type": "markdown",
   "metadata": {},
   "source": [
    "# Day 10: Hoof It\n",
    "You all arrive at a Lava Production Facility on a floating island in the sky. As the others begin to search the massive industrial complex, you feel a small nose boop your leg and look down to discover a reindeer wearing a hard hat.\n",
    "\n",
    "The reindeer is holding a book titled \"Lava Island Hiking Guide\". However, when you open the book, you discover that most of it seems to have been scorched by lava! As you're about to ask how you can help, the reindeer brings you a blank topographic map of the surrounding area (your puzzle input) and looks up at you excitedly.\n",
    "\n",
    "Perhaps you can help fill in the missing hiking trails?\n",
    "\n",
    "The topographic map indicates the height at each position using a scale from 0 (lowest) to 9 (highest). For example:\n",
    "\n",
    "```\n",
    "0123\n",
    "1234\n",
    "8765\n",
    "9876\n",
    "```\n",
    "\n",
    "Based on un-scorched scraps of the book, you determine that a good hiking trail is as long as possible and has an even, gradual, uphill slope. For all practical purposes, this means that a hiking trail is any path that starts at height 0, ends at height 9, and always increases by a height of exactly 1 at each step. Hiking trails never include diagonal steps - only up, down, left, or right (from the perspective of the map).\n",
    "\n",
    "You look up from the map and notice that the reindeer has helpfully begun to construct a small pile of pencils, markers, rulers, compasses, stickers, and other equipment you might need to update the map with hiking trails.\n",
    "\n",
    "A trailhead is any position that starts one or more hiking trails - here, these positions will always have height 0. Assembling more fragments of pages, you establish that a trailhead's score is the number of 9-height positions reachable from that trailhead via a hiking trail. In the above example, the single trailhead in the top left corner has a score of 1 because it can reach a single 9 (the one in the bottom left).\n",
    "\n",
    "This trailhead has a score of 2:\n",
    "\n",
    "```\n",
    "...0...\n",
    "...1...\n",
    "...2...\n",
    "6543456\n",
    "7.....7\n",
    "8.....8\n",
    "9.....9\n",
    "```\n",
    "\n",
    "(The positions marked . are impassable tiles to simplify these examples; they do not appear on your actual topographic map.)\n",
    "\n",
    "This trailhead has a score of 4 because every 9 is reachable via a hiking trail except the one immediately to the left of the trailhead:\n",
    "\n",
    "```\n",
    "..90..9\n",
    "...1.98\n",
    "...2..7\n",
    "6543456\n",
    "765.987\n",
    "876....\n",
    "987....\n",
    "```\n",
    "\n",
    "This topographic map contains two trailheads; the trailhead at the top has a score of 1, while the trailhead at the bottom has a score of 2:\n",
    "\n",
    "```\n",
    "10..9..\n",
    "2...8..\n",
    "3...7..\n",
    "4567654\n",
    "...8..3\n",
    "...9..2\n",
    ".....01\n",
    "```\n",
    "\n",
    "Here's a larger example:\n",
    "\n",
    "```\n",
    "89010123\n",
    "78121874\n",
    "87430965\n",
    "96549874\n",
    "45678903\n",
    "32019012\n",
    "01329801\n",
    "10456732\n",
    "```\n",
    "\n",
    "This larger example has 9 trailheads. Considering the trailheads in reading order, they have scores of 5, 6, 5, 3, 1, 3, 5, 3, and 5. Adding these scores together, the sum of the scores of all trailheads is 36.\n",
    "\n",
    "The reindeer gleefully carries over a protractor and adds it to the pile. What is the sum of the scores of all trailheads on your topographic map?"
   ]
  },
  {
   "cell_type": "code",
   "execution_count": 27,
   "metadata": {},
   "outputs": [],
   "source": [
    "from collections import defaultdict\n",
    "\n",
    "def result(inputfile):\n",
    "\n",
    "    input = []\n",
    "    with open(inputfile) as f:\n",
    "        for line in f:\n",
    "            input.append([int(pos) for pos in [*line.strip()]])\n",
    "    \n",
    "    scores = defaultdict(lambda: defaultdict(set))\n",
    "\n",
    "    def get_ascending_neighbours(i,j, hight):\n",
    "        ascending_neighbours = []\n",
    "        if i != 0:\n",
    "            if input[i - 1][j] == hight + 1:\n",
    "                ascending_neighbours.append(tuple([i-1, j]))\n",
    "        if j != 0:\n",
    "            if input[i][j - 1] == hight + 1:\n",
    "                ascending_neighbours.append(tuple([i, j-1]))\n",
    "        if j != len(input[0]) - 1 :\n",
    "            if input[i][j + 1] == hight + 1:\n",
    "                ascending_neighbours.append(tuple([i, j+1]))\n",
    "        if i != len(input) - 1:\n",
    "            if input[i + 1][j] == hight + 1:\n",
    "                ascending_neighbours.append(tuple([i+1, j]))\n",
    "        return ascending_neighbours\n",
    "\n",
    "    counter = 0\n",
    "    for i, line in enumerate(input):\n",
    "        for j, position in enumerate(line):\n",
    "            if position == 0:\n",
    "                scores[i][j] = set([counter])\n",
    "                counter += 1\n",
    "\n",
    "    result = 0\n",
    "\n",
    "    for hight in range(10):\n",
    "        for i, line in enumerate(input):\n",
    "            for j, position in enumerate(line):\n",
    "                if position == hight:\n",
    "                    if hight != 9:\n",
    "                        current_scores = scores[i][j]\n",
    "                        ascending_neighbours = get_ascending_neighbours(i,j, hight)\n",
    "                        for n_i, n_j in ascending_neighbours:\n",
    "                            scores[n_i][n_j].update(current_scores)\n",
    "                    else:\n",
    "                        current_scores = scores[i][j]\n",
    "                        result += len(current_scores)\n",
    "    return result"
   ]
  },
  {
   "cell_type": "code",
   "execution_count": 28,
   "metadata": {},
   "outputs": [
    {
     "data": {
      "text/plain": [
       "1"
      ]
     },
     "execution_count": 28,
     "metadata": {},
     "output_type": "execute_result"
    }
   ],
   "source": [
    "result(\"example-input.txt\")"
   ]
  },
  {
   "cell_type": "code",
   "execution_count": 29,
   "metadata": {},
   "outputs": [
    {
     "data": {
      "text/plain": [
       "36"
      ]
     },
     "execution_count": 29,
     "metadata": {},
     "output_type": "execute_result"
    }
   ],
   "source": [
    "result(\"example-input2.txt\")"
   ]
  },
  {
   "cell_type": "code",
   "execution_count": 30,
   "metadata": {},
   "outputs": [
    {
     "data": {
      "text/plain": [
       "682"
      ]
     },
     "execution_count": 30,
     "metadata": {},
     "output_type": "execute_result"
    }
   ],
   "source": [
    "result(\"input.txt\")"
   ]
  },
  {
   "cell_type": "markdown",
   "metadata": {},
   "source": [
    "# Part Two\n",
    "The reindeer spends a few minutes reviewing your hiking trail map before realizing something, disappearing for a few minutes, and finally returning with yet another slightly-charred piece of paper.\n",
    "\n",
    "The paper describes a second way to measure a trailhead called its rating. A trailhead's rating is the number of distinct hiking trails which begin at that trailhead. For example:\n",
    "\n",
    "```\n",
    ".....0.\n",
    "..4321.\n",
    "..5..2.\n",
    "..6543.\n",
    "..7..4.\n",
    "..8765.\n",
    "..9....\n",
    "```\n",
    "\n",
    "The above map has a single trailhead; its rating is 3 because there are exactly three distinct hiking trails which begin at that position:\n",
    "\n",
    "```\n",
    ".....0.   .....0.   .....0.\n",
    "..4321.   .....1.   .....1.\n",
    "..5....   .....2.   .....2.\n",
    "..6....   ..6543.   .....3.\n",
    "..7....   ..7....   .....4.\n",
    "..8....   ..8....   ..8765.\n",
    "..9....   ..9....   ..9....\n",
    "```\n",
    "\n",
    "Here is a map containing a single trailhead with rating 13:\n",
    "\n",
    "```\n",
    "..90..9\n",
    "...1.98\n",
    "...2..7\n",
    "6543456\n",
    "765.987\n",
    "876....\n",
    "987....\n",
    "```\n",
    "\n",
    "This map contains a single trailhead with rating 227 (because there are 121 distinct hiking trails that lead to the 9 on the right edge and 106 that lead to the 9 on the bottom edge):\n",
    "\n",
    "```\n",
    "012345\n",
    "123456\n",
    "234567\n",
    "345678\n",
    "4.6789\n",
    "56789.\n",
    "```\n",
    "\n",
    "Here's the larger example from before:\n",
    "\n",
    "```\n",
    "89010123\n",
    "78121874\n",
    "87430965\n",
    "96549874\n",
    "45678903\n",
    "32019012\n",
    "01329801\n",
    "10456732\n",
    "```\n",
    "\n",
    "Considering its trailheads in reading order, they have ratings of 20, 24, 10, 4, 1, 4, 5, 8, and 5. The sum of all trailhead ratings in this larger example topographic map is 81.\n",
    "\n",
    "You're not sure how, but the reindeer seems to have crafted some tiny flags out of toothpicks and bits of paper and is using them to mark trailheads on your topographic map. What is the sum of the ratings of all trailheads?"
   ]
  },
  {
   "cell_type": "code",
   "execution_count": 32,
   "metadata": {},
   "outputs": [],
   "source": [
    "def result2(inputfile):\n",
    "\n",
    "    input = []\n",
    "    with open(inputfile) as f:\n",
    "        for line in f:\n",
    "            input.append([int(pos) for pos in [*line.strip()]])\n",
    "    \n",
    "    scores = defaultdict(lambda: defaultdict(lambda: 0))\n",
    "\n",
    "    def get_ascending_neighbours(i,j, hight):\n",
    "        ascending_neighbours = []\n",
    "        if i != 0:\n",
    "            if input[i - 1][j] == hight + 1:\n",
    "                ascending_neighbours.append(tuple([i-1, j]))\n",
    "        if j != 0:\n",
    "            if input[i][j - 1] == hight + 1:\n",
    "                ascending_neighbours.append(tuple([i, j-1]))\n",
    "        if j != len(input[0]) - 1 :\n",
    "            if input[i][j + 1] == hight + 1:\n",
    "                ascending_neighbours.append(tuple([i, j+1]))\n",
    "        if i != len(input) - 1:\n",
    "            if input[i + 1][j] == hight + 1:\n",
    "                ascending_neighbours.append(tuple([i+1, j]))\n",
    "        return ascending_neighbours\n",
    "\n",
    "    for i, line in enumerate(input):\n",
    "        for j, position in enumerate(line):\n",
    "            if position == 0:\n",
    "                scores[i][j] = 1\n",
    "    \n",
    "\n",
    "    result = 0\n",
    "\n",
    "    for hight in range(10):\n",
    "        for i, line in enumerate(input):\n",
    "            for j, position in enumerate(line):\n",
    "                if position == hight:\n",
    "                    if hight != 9:\n",
    "                        current_scores = scores[i][j]\n",
    "                        ascending_neighbours = get_ascending_neighbours(i,j, hight)\n",
    "                        for n_i, n_j in ascending_neighbours:\n",
    "                            scores[n_i][n_j] += current_scores\n",
    "                    else:\n",
    "                        current_scores = scores[i][j]\n",
    "                        result += current_scores\n",
    "    return result"
   ]
  },
  {
   "cell_type": "code",
   "execution_count": 34,
   "metadata": {},
   "outputs": [
    {
     "data": {
      "text/plain": [
       "81"
      ]
     },
     "execution_count": 34,
     "metadata": {},
     "output_type": "execute_result"
    }
   ],
   "source": [
    "result2(\"example-input2.txt\")"
   ]
  },
  {
   "cell_type": "code",
   "execution_count": 35,
   "metadata": {},
   "outputs": [
    {
     "data": {
      "text/plain": [
       "1511"
      ]
     },
     "execution_count": 35,
     "metadata": {},
     "output_type": "execute_result"
    }
   ],
   "source": [
    "result2(\"input.txt\")"
   ]
  }
 ],
 "metadata": {
  "kernelspec": {
   "display_name": "aoc_env",
   "language": "python",
   "name": "python3"
  },
  "language_info": {
   "codemirror_mode": {
    "name": "ipython",
    "version": 3
   },
   "file_extension": ".py",
   "mimetype": "text/x-python",
   "name": "python",
   "nbconvert_exporter": "python",
   "pygments_lexer": "ipython3",
   "version": "3.13.0"
  }
 },
 "nbformat": 4,
 "nbformat_minor": 2
}
