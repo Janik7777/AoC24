{
 "cells": [
  {
   "cell_type": "markdown",
   "metadata": {},
   "source": [
    "# Day 16: Reindeer Maze\n",
    "It's time again for the Reindeer Olympics! This year, the big event is the Reindeer Maze, where the Reindeer compete for the lowest score.\n",
    "\n",
    "You and The Historians arrive to search for the Chief right as the event is about to start. It wouldn't hurt to watch a little, right?\n",
    "\n",
    "The Reindeer start on the Start Tile (marked S) facing East and need to reach the End Tile (marked E). They can move forward one tile at a time (increasing their score by 1 point), but never into a wall (#). They can also rotate clockwise or counterclockwise 90 degrees at a time (increasing their score by 1000 points).\n",
    "\n",
    "To figure out the best place to sit, you start by grabbing a map (your puzzle input) from a nearby kiosk. For example:\n",
    "\n",
    "```\n",
    "###############\n",
    "#.......#....E#\n",
    "#.#.###.#.###.#\n",
    "#.....#.#...#.#\n",
    "#.###.#####.#.#\n",
    "#.#.#.......#.#\n",
    "#.#.#####.###.#\n",
    "#...........#.#\n",
    "###.#.#####.#.#\n",
    "#...#.....#.#.#\n",
    "#.#.#.###.#.#.#\n",
    "#.....#...#.#.#\n",
    "#.###.#.#.#.#.#\n",
    "#S..#.....#...#\n",
    "###############\n",
    "```\n",
    "\n",
    "There are many paths through this maze, but taking any of the best paths would incur a score of only 7036. This can be achieved by taking a total of 36 steps forward and turning 90 degrees a total of 7 times:\n",
    "\n",
    "```\n",
    "###############\n",
    "#.......#....E#\n",
    "#.#.###.#.###^#\n",
    "#.....#.#...#^#\n",
    "#.###.#####.#^#\n",
    "#.#.#.......#^#\n",
    "#.#.#####.###^#\n",
    "#..>>>>>>>>v#^#\n",
    "###^#.#####v#^#\n",
    "#>>^#.....#v#^#\n",
    "#^#.#.###.#v#^#\n",
    "#^....#...#v#^#\n",
    "#^###.#.#.#v#^#\n",
    "#S..#.....#>>^#\n",
    "###############\n",
    "```\n",
    "\n",
    "Here's a second example:\n",
    "\n",
    "```\n",
    "#################\n",
    "#...#...#...#..E#\n",
    "#.#.#.#.#.#.#.#.#\n",
    "#.#.#.#...#...#.#\n",
    "#.#.#.#.###.#.#.#\n",
    "#...#.#.#.....#.#\n",
    "#.#.#.#.#.#####.#\n",
    "#.#...#.#.#.....#\n",
    "#.#.#####.#.###.#\n",
    "#.#.#.......#...#\n",
    "#.#.###.#####.###\n",
    "#.#.#...#.....#.#\n",
    "#.#.#.#####.###.#\n",
    "#.#.#.........#.#\n",
    "#.#.#.#########.#\n",
    "#S#.............#\n",
    "#################\n",
    "```\n",
    "\n",
    "In this maze, the best paths cost 11048 points; following one such path would look like this:\n",
    "\n",
    "```\n",
    "#################\n",
    "#...#...#...#..E#\n",
    "#.#.#.#.#.#.#.#^#\n",
    "#.#.#.#...#...#^#\n",
    "#.#.#.#.###.#.#^#\n",
    "#>>v#.#.#.....#^#\n",
    "#^#v#.#.#.#####^#\n",
    "#^#v..#.#.#>>>>^#\n",
    "#^#v#####.#^###.#\n",
    "#^#v#..>>>>^#...#\n",
    "#^#v###^#####.###\n",
    "#^#v#>>^#.....#.#\n",
    "#^#v#^#####.###.#\n",
    "#^#v#^........#.#\n",
    "#^#v#^#########.#\n",
    "#S#>>^..........#\n",
    "#################\n",
    "```\n",
    "\n",
    "Note that the path shown above includes one 90 degree turn as the very first move, rotating the Reindeer from facing East to facing North.\n",
    "\n",
    "Analyze your map carefully. What is the lowest score a Reindeer could possibly get?"
   ]
  },
  {
   "cell_type": "code",
   "execution_count": 3,
   "metadata": {},
   "outputs": [],
   "source": [
    "import networkx as nx\n",
    "\n",
    "def v_north(y,x):\n",
    "    return \"north_\" + str(y) + \"_\" + str(x)\n",
    "\n",
    "def v_south(y,x):\n",
    "    return \"south_\" + str(y) + \"_\" + str(x)\n",
    "\n",
    "def v_east(y,x):\n",
    "    return \"east_\" + str(y) + \"_\" + str(x)\n",
    "\n",
    "def v_west(y,x):\n",
    "    return \"west_\" + str(y) + \"_\" + str(x)\n",
    "\n",
    "def result(inputfile):\n",
    "    map = []\n",
    "    with open(inputfile) as f:\n",
    "        for line in f:\n",
    "            map.append([*line.strip()])\n",
    "\n",
    "    G = nx.Graph()\n",
    "\n",
    "    for y, line in enumerate(map):\n",
    "        for x, char in enumerate(line):\n",
    "            if char != \"#\":\n",
    "                G.add_edge(v_north(y,x), v_west(y,x), weight=1000)\n",
    "                G.add_edge(v_west(y,x), v_south(y,x), weight=1000)\n",
    "                G.add_edge(v_south(y,x), v_east(y,x), weight=1000)\n",
    "                G.add_edge(v_east(y,x), v_north(y,x), weight=1000)\n",
    "                if not map[y - 1][x] == \"#\":\n",
    "                    G.add_edge(v_north(y,x), v_north(y - 1,x), weight=1)\n",
    "                if not map[y + 1][x] == \"#\":\n",
    "                    G.add_edge(v_south(y,x), v_south(y + 1,x), weight=1)\n",
    "                if not map[y][x - 1] == \"#\":\n",
    "                    G.add_edge(v_west(y,x), v_west(y,x - 1), weight=1)\n",
    "                if not map[y][x + 1] == \"#\":\n",
    "                    G.add_edge(v_east(y,x), v_east(y,x + 1), weight=1)\n",
    "            if char == \"S\":\n",
    "                start_x = x\n",
    "                start_y = y\n",
    "            if char == \"E\":\n",
    "                end_x = x\n",
    "                end_y = y\n",
    "        \n",
    "    return min(nx.shortest_path_length(G, source=v_east(start_y, start_x), target=v_east(end_y, end_x), weight=\"weight\"), \\\n",
    "       nx.shortest_path_length(G, source=v_east(start_y, start_x), target=v_west(end_y, end_x), weight=\"weight\"), \\\n",
    "       nx.shortest_path_length(G, source=v_east(start_y, start_x), target=v_south(end_y, end_x), weight=\"weight\"), \\\n",
    "       nx.shortest_path_length(G, source=v_east(start_y, start_x), target=v_north(end_y, end_x), weight=\"weight\"))\n",
    "                "
   ]
  },
  {
   "cell_type": "code",
   "execution_count": 4,
   "metadata": {},
   "outputs": [
    {
     "data": {
      "text/plain": [
       "7036"
      ]
     },
     "execution_count": 4,
     "metadata": {},
     "output_type": "execute_result"
    }
   ],
   "source": [
    "result(\"example-input.txt\")"
   ]
  },
  {
   "cell_type": "code",
   "execution_count": 5,
   "metadata": {},
   "outputs": [
    {
     "data": {
      "text/plain": [
       "11048"
      ]
     },
     "execution_count": 5,
     "metadata": {},
     "output_type": "execute_result"
    }
   ],
   "source": [
    "result(\"example-input-2.txt\")"
   ]
  },
  {
   "cell_type": "code",
   "execution_count": 6,
   "metadata": {},
   "outputs": [
    {
     "data": {
      "text/plain": [
       "160624"
      ]
     },
     "execution_count": 6,
     "metadata": {},
     "output_type": "execute_result"
    }
   ],
   "source": [
    "result(\"input.txt\")"
   ]
  },
  {
   "cell_type": "markdown",
   "metadata": {},
   "source": [
    "# Part Two\n",
    "Now that you know what the best paths look like, you can figure out the best spot to sit.\n",
    "\n",
    "Every non-wall tile (S, ., or E) is equipped with places to sit along the edges of the tile. While determining which of these tiles would be the best spot to sit depends on a whole bunch of factors (how comfortable the seats are, how far away the bathrooms are, whether there's a pillar blocking your view, etc.), the most important factor is whether the tile is on one of the best paths through the maze. If you sit somewhere else, you'd miss all the action!\n",
    "\n",
    "So, you'll need to determine which tiles are part of any best path through the maze, including the S and E tiles.\n",
    "\n",
    "In the first example, there are 45 tiles (marked O) that are part of at least one of the various best paths through the maze:\n",
    "\n",
    "```\n",
    "###############\n",
    "#.......#....O#\n",
    "#.#.###.#.###O#\n",
    "#.....#.#...#O#\n",
    "#.###.#####.#O#\n",
    "#.#.#.......#O#\n",
    "#.#.#####.###O#\n",
    "#..OOOOOOOOO#O#\n",
    "###O#O#####O#O#\n",
    "#OOO#O....#O#O#\n",
    "#O#O#O###.#O#O#\n",
    "#OOOOO#...#O#O#\n",
    "#O###.#.#.#O#O#\n",
    "#O..#.....#OOO#\n",
    "###############\n",
    "```\n",
    "\n",
    "In the second example, there are 64 tiles that are part of at least one of the best paths:\n",
    "\n",
    "```\n",
    "#################\n",
    "#...#...#...#..O#\n",
    "#.#.#.#.#.#.#.#O#\n",
    "#.#.#.#...#...#O#\n",
    "#.#.#.#.###.#.#O#\n",
    "#OOO#.#.#.....#O#\n",
    "#O#O#.#.#.#####O#\n",
    "#O#O..#.#.#OOOOO#\n",
    "#O#O#####.#O###O#\n",
    "#O#O#..OOOOO#OOO#\n",
    "#O#O###O#####O###\n",
    "#O#O#OOO#..OOO#.#\n",
    "#O#O#O#####O###.#\n",
    "#O#O#OOOOOOO..#.#\n",
    "#O#O#O#########.#\n",
    "#O#OOO..........#\n",
    "#################\n",
    "```\n",
    "\n",
    "Analyze your map further. How many tiles are part of at least one of the best paths through the maze?"
   ]
  },
  {
   "cell_type": "code",
   "execution_count": 18,
   "metadata": {},
   "outputs": [],
   "source": [
    "from collections import defaultdict\n",
    "\n",
    "def result2(inputfile):\n",
    "    map = []\n",
    "    with open(inputfile) as f:\n",
    "        for line in f:\n",
    "            map.append([*line.strip()])\n",
    "\n",
    "    G = nx.DiGraph()\n",
    "\n",
    "    for y, line in enumerate(map):\n",
    "        for x, char in enumerate(line):\n",
    "            if char != \"#\":\n",
    "                G.add_edge(v_north(y,x), v_west(y,x), weight=1000)\n",
    "                G.add_edge(v_west(y,x), v_south(y,x), weight=1000)\n",
    "                G.add_edge(v_south(y,x), v_east(y,x), weight=1000)\n",
    "                G.add_edge(v_east(y,x), v_north(y,x), weight=1000)\n",
    "\n",
    "                G.add_edge(v_north(y,x), v_east(y,x), weight=1000)\n",
    "                G.add_edge(v_east(y,x), v_south(y,x), weight=1000)\n",
    "                G.add_edge(v_south(y,x), v_west(y,x), weight=1000)\n",
    "                G.add_edge(v_west(y,x), v_north(y,x), weight=1000)\n",
    "                if not map[y - 1][x] == \"#\":\n",
    "                    G.add_edge(v_north(y,x), v_north(y - 1,x), weight=1)\n",
    "                if not map[y + 1][x] == \"#\":\n",
    "                    G.add_edge(v_south(y,x), v_south(y + 1,x), weight=1)\n",
    "                if not map[y][x - 1] == \"#\":\n",
    "                    G.add_edge(v_west(y,x), v_west(y,x - 1), weight=1)\n",
    "                if not map[y][x + 1] == \"#\":\n",
    "                    G.add_edge(v_east(y,x), v_east(y,x + 1), weight=1)\n",
    "            if char == \"S\":\n",
    "                start_x = x\n",
    "                start_y = y\n",
    "            if char == \"E\":\n",
    "                end_x = x\n",
    "                end_y = y\n",
    "        \n",
    "    toEast = nx.shortest_path_length(G, source=v_east(start_y, start_x), target=v_east(end_y, end_x), weight=\"weight\")\n",
    "    toWest = nx.shortest_path_length(G, source=v_east(start_y, start_x), target=v_west(end_y, end_x), weight=\"weight\")\n",
    "    toSouth = nx.shortest_path_length(G, source=v_east(start_y, start_x), target=v_south(end_y, end_x), weight=\"weight\")\n",
    "    toNorth = nx.shortest_path_length(G, source=v_east(start_y, start_x), target=v_north(end_y, end_x), weight=\"weight\")\n",
    "\n",
    "    minLen = min(toEast, toNorth, toSouth, toWest)\n",
    "\n",
    "    result_map = defaultdict(lambda: False)\n",
    "\n",
    "    if toEast == minLen:\n",
    "        all_shortest = list(nx.all_shortest_paths(G, source=v_east(start_y, start_x), target=v_east(end_y, end_x), weight=\"weight\"))\n",
    "        for path in all_shortest:\n",
    "            for node in path:\n",
    "                result_map[node] = True\n",
    "    if toNorth == minLen:\n",
    "        all_shortest = list(nx.all_shortest_paths(G, source=v_east(start_y, start_x), target=v_north(end_y, end_x), weight=\"weight\"))\n",
    "        for path in all_shortest:\n",
    "            for node in path:\n",
    "                result_map[node] = True\n",
    "    if toSouth == minLen:\n",
    "        all_shortest = list(nx.all_shortest_paths(G, source=v_east(start_y, start_x), target=v_south(end_y, end_x), weight=\"weight\"))\n",
    "        for path in all_shortest:\n",
    "            for node in path:\n",
    "                result_map[node] = True\n",
    "    if toWest == minLen:\n",
    "        all_shortest = list(nx.all_shortest_paths(G, source=v_east(start_y, start_x), target=v_west(end_y, end_x), weight=\"weight\"))\n",
    "        for path in all_shortest:\n",
    "            for node in path:\n",
    "                result_map[node] = True\n",
    "\n",
    "    result = 0\n",
    "    for y in range(len(map)):\n",
    "        for x in range(len(map[0])):\n",
    "            if result_map[v_east(y,x)] or result_map[v_north(y,x)] or \\\n",
    "               result_map[v_south(y,x)] or result_map[v_west(y,x)]:\n",
    "                    result += 1\n",
    "    \n",
    "    return result"
   ]
  },
  {
   "cell_type": "code",
   "execution_count": 19,
   "metadata": {},
   "outputs": [
    {
     "data": {
      "text/plain": [
       "45"
      ]
     },
     "execution_count": 19,
     "metadata": {},
     "output_type": "execute_result"
    }
   ],
   "source": [
    "result2(\"example-input.txt\")"
   ]
  },
  {
   "cell_type": "code",
   "execution_count": 20,
   "metadata": {},
   "outputs": [
    {
     "data": {
      "text/plain": [
       "64"
      ]
     },
     "execution_count": 20,
     "metadata": {},
     "output_type": "execute_result"
    }
   ],
   "source": [
    "result2(\"example-input-2.txt\")"
   ]
  },
  {
   "cell_type": "code",
   "execution_count": 21,
   "metadata": {},
   "outputs": [
    {
     "data": {
      "text/plain": [
       "692"
      ]
     },
     "execution_count": 21,
     "metadata": {},
     "output_type": "execute_result"
    }
   ],
   "source": [
    "result2(\"input.txt\")"
   ]
  }
 ],
 "metadata": {
  "kernelspec": {
   "display_name": "aoc_env",
   "language": "python",
   "name": "python3"
  },
  "language_info": {
   "codemirror_mode": {
    "name": "ipython",
    "version": 3
   },
   "file_extension": ".py",
   "mimetype": "text/x-python",
   "name": "python",
   "nbconvert_exporter": "python",
   "pygments_lexer": "ipython3",
   "version": "3.13.0"
  }
 },
 "nbformat": 4,
 "nbformat_minor": 2
}
