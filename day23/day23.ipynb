{
 "cells": [
  {
   "cell_type": "markdown",
   "metadata": {},
   "source": [
    "# Day 23: LAN Party\n",
    "As The Historians wander around a secure area at Easter Bunny HQ, you come across posters for a LAN party scheduled for today! Maybe you can find it; you connect to a nearby datalink port and download a map of the local network (your puzzle input).\n",
    "\n",
    "The network map provides a list of every connection between two computers. For example:\n",
    "\n",
    "```\n",
    "kh-tc\n",
    "qp-kh\n",
    "de-cg\n",
    "ka-co\n",
    "yn-aq\n",
    "qp-ub\n",
    "cg-tb\n",
    "vc-aq\n",
    "tb-ka\n",
    "wh-tc\n",
    "yn-cg\n",
    "kh-ub\n",
    "ta-co\n",
    "de-co\n",
    "tc-td\n",
    "tb-wq\n",
    "wh-td\n",
    "ta-ka\n",
    "td-qp\n",
    "aq-cg\n",
    "wq-ub\n",
    "ub-vc\n",
    "de-ta\n",
    "wq-aq\n",
    "wq-vc\n",
    "wh-yn\n",
    "ka-de\n",
    "kh-ta\n",
    "co-tc\n",
    "wh-qp\n",
    "tb-vc\n",
    "td-yn\n",
    "```\n",
    "\n",
    "Each line of text in the network map represents a single connection; the line kh-tc represents a connection between the computer named kh and the computer named tc. Connections aren't directional; tc-kh would mean exactly the same thing.\n",
    "\n",
    "LAN parties typically involve multiplayer games, so maybe you can locate it by finding groups of connected computers. Start by looking for sets of three computers where each computer in the set is connected to the other two computers.\n",
    "\n",
    "In this example, there are 12 such sets of three inter-connected computers:\n",
    "\n",
    "```\n",
    "aq,cg,yn\n",
    "aq,vc,wq\n",
    "co,de,ka\n",
    "co,de,ta\n",
    "co,ka,ta\n",
    "de,ka,ta\n",
    "kh,qp,ub\n",
    "qp,td,wh\n",
    "tb,vc,wq\n",
    "tc,td,wh\n",
    "td,wh,yn\n",
    "ub,vc,wq\n",
    "```\n",
    "\n",
    "If the Chief Historian is here, and he's at the LAN party, it would be best to know that right away. You're pretty sure his computer's name starts with t, so consider only sets of three computers where at least one computer's name starts with t. That narrows the list down to 7 sets of three inter-connected computers:\n",
    "\n",
    "```\n",
    "co,de,ta\n",
    "co,ka,ta\n",
    "de,ka,ta\n",
    "qp,td,wh\n",
    "tb,vc,wq\n",
    "tc,td,wh\n",
    "td,wh,yn\n",
    "```\n",
    "\n",
    "Find all the sets of three inter-connected computers. How many contain at least one computer with a name that starts with t?"
   ]
  },
  {
   "cell_type": "code",
   "execution_count": 33,
   "metadata": {},
   "outputs": [],
   "source": [
    "import networkx as nx\n",
    "\n",
    "def result(inputfile):\n",
    "    G = nx.Graph()\n",
    "    found = set()\n",
    "    with open(inputfile) as f:\n",
    "        for line in f:\n",
    "            s,t = line.strip().split(\"-\")\n",
    "            G.add_edge(s,t)\n",
    "    for node in G.nodes():\n",
    "        if node.startswith(\"t\"):\n",
    "            neighbors = list(G.neighbors(node))\n",
    "            for i in range(len(neighbors)):\n",
    "                for j in range(i):\n",
    "                    if G.has_edge(neighbors[i], neighbors[j]):\n",
    "                        found.add(frozenset([node, neighbors[i], neighbors[j]]))\n",
    "    print(len(found))\n"
   ]
  },
  {
   "cell_type": "code",
   "execution_count": 34,
   "metadata": {},
   "outputs": [
    {
     "name": "stdout",
     "output_type": "stream",
     "text": [
      "7\n"
     ]
    }
   ],
   "source": [
    "result(\"example-input.txt\")"
   ]
  },
  {
   "cell_type": "code",
   "execution_count": 35,
   "metadata": {},
   "outputs": [
    {
     "name": "stdout",
     "output_type": "stream",
     "text": [
      "1330\n"
     ]
    }
   ],
   "source": [
    "result(\"input.txt\")"
   ]
  },
  {
   "cell_type": "markdown",
   "metadata": {},
   "source": [
    "# Part Two\n",
    "There are still way too many results to go through them all. You'll have to find the LAN party another way and go there yourself.\n",
    "\n",
    "Since it doesn't seem like any employees are around, you figure they must all be at the LAN party. If that's true, the LAN party will be the largest set of computers that are all connected to each other. That is, for each computer at the LAN party, that computer will have a connection to every other computer at the LAN party.\n",
    "\n",
    "In the above example, the largest set of computers that are all connected to each other is made up of co, de, ka, and ta. Each computer in this set has a connection to every other computer in the set:\n",
    "\n",
    "```\n",
    "ka-co\n",
    "ta-co\n",
    "de-co\n",
    "ta-ka\n",
    "de-ta\n",
    "ka-de\n",
    "```\n",
    "\n",
    "The LAN party posters say that the password to get into the LAN party is the name of every computer at the LAN party, sorted alphabetically, then joined together with commas. (The people running the LAN party are clearly a bunch of nerds.) In this example, the password would be co,de,ka,ta.\n",
    "\n",
    "What is the password to get into the LAN party?"
   ]
  },
  {
   "cell_type": "code",
   "execution_count": 38,
   "metadata": {},
   "outputs": [],
   "source": [
    "def result2(inputfile):\n",
    "    G = nx.Graph()\n",
    "    with open(inputfile) as f:\n",
    "        for line in f:\n",
    "            s,t = line.strip().split(\"-\")\n",
    "            G.add_edge(s,t)\n",
    "    \n",
    "    cliques = list(nx.find_cliques(G))\n",
    "    max_clique = max(cliques, key=len)\n",
    "    print(\",\".join(sorted(max_clique)))"
   ]
  },
  {
   "cell_type": "code",
   "execution_count": 39,
   "metadata": {},
   "outputs": [
    {
     "name": "stdout",
     "output_type": "stream",
     "text": [
      "co,de,ka,ta\n"
     ]
    }
   ],
   "source": [
    "result2(\"example-input.txt\")"
   ]
  },
  {
   "cell_type": "code",
   "execution_count": 41,
   "metadata": {},
   "outputs": [
    {
     "name": "stdout",
     "output_type": "stream",
     "text": [
      "hl,io,ku,pk,ps,qq,sh,tx,ty,wq,xi,xj,yp\n"
     ]
    }
   ],
   "source": [
    "result2(\"input.txt\")"
   ]
  }
 ],
 "metadata": {
  "kernelspec": {
   "display_name": "aoc_env",
   "language": "python",
   "name": "python3"
  },
  "language_info": {
   "codemirror_mode": {
    "name": "ipython",
    "version": 3
   },
   "file_extension": ".py",
   "mimetype": "text/x-python",
   "name": "python",
   "nbconvert_exporter": "python",
   "pygments_lexer": "ipython3",
   "version": "3.13.0"
  }
 },
 "nbformat": 4,
 "nbformat_minor": 2
}
