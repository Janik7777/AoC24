{
 "cells": [
  {
   "cell_type": "markdown",
   "metadata": {},
   "source": [
    "# Day 19: Linen Layout\n",
    "Today, The Historians take you up to the hot springs on Gear Island! Very suspiciously, absolutely nothing goes wrong as they begin their careful search of the vast field of helixes.\n",
    "\n",
    "Could this finally be your chance to visit the onsen next door? Only one way to find out.\n",
    "\n",
    "After a brief conversation with the reception staff at the onsen front desk, you discover that you don't have the right kind of money to pay the admission fee. However, before you can leave, the staff get your attention. Apparently, they've heard about how you helped at the hot springs, and they're willing to make a deal: if you can simply help them arrange their towels, they'll let you in for free!\n",
    "\n",
    "Every towel at this onsen is marked with a pattern of colored stripes. There are only a few patterns, but for any particular pattern, the staff can get you as many towels with that pattern as you need. Each stripe can be white (w), blue (u), black (b), red (r), or green (g). So, a towel with the pattern ggr would have a green stripe, a green stripe, and then a red stripe, in that order. (You can't reverse a pattern by flipping a towel upside-down, as that would cause the onsen logo to face the wrong way.)\n",
    "\n",
    "The Official Onsen Branding Expert has produced a list of designs - each a long sequence of stripe colors - that they would like to be able to display. You can use any towels you want, but all of the towels' stripes must exactly match the desired design. So, to display the design rgrgr, you could use two rg towels and then an r towel, an rgr towel and then a gr towel, or even a single massive rgrgr towel (assuming such towel patterns were actually available).\n",
    "\n",
    "To start, collect together all of the available towel patterns and the list of desired designs (your puzzle input). For example:\n",
    "\n",
    "```\n",
    "r, wr, b, g, bwu, rb, gb, br\n",
    "\n",
    "brwrr\n",
    "bggr\n",
    "gbbr\n",
    "rrbgbr\n",
    "ubwu\n",
    "bwurrg\n",
    "brgr\n",
    "bbrgwb\n",
    "```\n",
    "\n",
    "The first line indicates the available towel patterns; in this example, the onsen has unlimited towels with a single red stripe (r), unlimited towels with a white stripe and then a red stripe (wr), and so on.\n",
    "\n",
    "After the blank line, the remaining lines each describe a design the onsen would like to be able to display. In this example, the first design (brwrr) indicates that the onsen would like to be able to display a black stripe, a red stripe, a white stripe, and then two red stripes, in that order.\n",
    "\n",
    "Not all designs will be possible with the available towels. In the above example, the designs are possible or impossible as follows:\n",
    "\n",
    "- brwrr can be made with a br towel, then a wr towel, and then finally an r towel.\n",
    "- bggr can be made with a b towel, two g towels, and then an r towel.\n",
    "- gbbr can be made with a gb towel and then a br towel.\n",
    "- rrbgbr can be made with r, rb, g, and br.\n",
    "- ubwu is impossible.\n",
    "- bwurrg can be made with bwu, r, r, and g.\n",
    "- brgr can be made with br, g, and r.\n",
    "- bbrgwb is impossible.\n",
    "\n",
    "In this example, 6 of the eight designs are possible with the available towel patterns.\n",
    "\n",
    "To get into the onsen as soon as possible, consult your list of towel patterns and desired designs carefully. How many designs are possible?\n",
    "\n"
   ]
  },
  {
   "cell_type": "code",
   "execution_count": 12,
   "metadata": {},
   "outputs": [],
   "source": [
    "def result(inputfile):\n",
    "\n",
    "    possilbe = dict()\n",
    "\n",
    "    towels = []\n",
    "\n",
    "    def checkCombination(combi):\n",
    "        if combi not in possilbe:\n",
    "            for towel in towels:\n",
    "                if combi.startswith(towel):\n",
    "                    rest = combi.removeprefix(towel)\n",
    "                    if checkCombination(rest):\n",
    "                        possilbe[combi] = True\n",
    "                        return possilbe[combi]\n",
    "            possilbe[combi] = False\n",
    "        return possilbe[combi]\n",
    "\n",
    "    result = 0\n",
    "\n",
    "    with open(inputfile) as f:\n",
    "        for i, line in enumerate(f):\n",
    "            if i == 0:\n",
    "                for towel in line.strip().split(\", \"):\n",
    "                    towels.append(towel)\n",
    "                    possilbe[towel] = True\n",
    "            if i > 1:\n",
    "                combi = line.strip()\n",
    "                if checkCombination(combi):\n",
    "                    result += 1\n",
    "    \n",
    "    return result"
   ]
  },
  {
   "cell_type": "code",
   "execution_count": 13,
   "metadata": {},
   "outputs": [
    {
     "data": {
      "text/plain": [
       "6"
      ]
     },
     "execution_count": 13,
     "metadata": {},
     "output_type": "execute_result"
    }
   ],
   "source": [
    "result(\"example-input.txt\")"
   ]
  },
  {
   "cell_type": "code",
   "execution_count": 14,
   "metadata": {},
   "outputs": [
    {
     "data": {
      "text/plain": [
       "358"
      ]
     },
     "execution_count": 14,
     "metadata": {},
     "output_type": "execute_result"
    }
   ],
   "source": [
    "result(\"input.txt\")"
   ]
  },
  {
   "cell_type": "markdown",
   "metadata": {},
   "source": [
    "# Part Two\n",
    "The staff don't really like some of the towel arrangements you came up with. To avoid an endless cycle of towel rearrangement, maybe you should just give them every possible option.\n",
    "\n",
    "Here are all of the different ways the above example's designs can be made:\n",
    "\n",
    "brwrr can be made in two different ways: b, r, wr, r or br, wr, r.\n",
    "\n",
    "bggr can only be made with b, g, g, and r.\n",
    "\n",
    "gbbr can be made 4 different ways:\n",
    "\n",
    "- g, b, b, r\n",
    "- g, b, br\n",
    "- gb, b, r\n",
    "- gb, br\n",
    "\n",
    "rrbgbr can be made 6 different ways:\n",
    "\n",
    "- r, r, b, g, b, r\n",
    "- r, r, b, g, br\n",
    "- r, r, b, gb, r\n",
    "- r, rb, g, b, r\n",
    "- r, rb, g, br\n",
    "- r, rb, gb, r\n",
    "\n",
    "bwurrg can only be made with bwu, r, r, and g.\n",
    "\n",
    "brgr can be made in two different ways: b, r, g, r or br, g, r.\n",
    "\n",
    "ubwu and bbrgwb are still impossible.\n",
    "\n",
    "Adding up all of the ways the towels in this example could be arranged into the desired designs yields 16 (2 + 1 + 4 + 6 + 1 + 2).\n",
    "\n",
    "They'll let you into the onsen as soon as you have the list. What do you get if you add up the number of different ways you could make each design?"
   ]
  },
  {
   "cell_type": "code",
   "execution_count": 23,
   "metadata": {},
   "outputs": [],
   "source": [
    "def result2(inputfile):\n",
    "\n",
    "    possilbe = dict()\n",
    "    possilbe[\"\"] = 1\n",
    "\n",
    "    towels = []\n",
    "\n",
    "    def checkCombination(combi):\n",
    "        if combi not in possilbe:\n",
    "            sum = 0\n",
    "            for towel in towels:\n",
    "                if combi.startswith(towel):\n",
    "                    rest = combi.removeprefix(towel)\n",
    "                    sum += checkCombination(rest)\n",
    "            possilbe[combi] = sum\n",
    "        return possilbe[combi]\n",
    "\n",
    "    result = 0\n",
    "\n",
    "    with open(inputfile) as f:\n",
    "        for i, line in enumerate(f):\n",
    "            if i == 0:\n",
    "                for towel in line.strip().split(\", \"):\n",
    "                    towels.append(towel)\n",
    "            if i > 1:\n",
    "                combi = line.strip()\n",
    "                result += checkCombination(combi)\n",
    "    \n",
    "    return result"
   ]
  },
  {
   "cell_type": "code",
   "execution_count": 24,
   "metadata": {},
   "outputs": [
    {
     "data": {
      "text/plain": [
       "16"
      ]
     },
     "execution_count": 24,
     "metadata": {},
     "output_type": "execute_result"
    }
   ],
   "source": [
    "result2(\"example-input.txt\")"
   ]
  },
  {
   "cell_type": "code",
   "execution_count": 25,
   "metadata": {},
   "outputs": [
    {
     "data": {
      "text/plain": [
       "600639829400603"
      ]
     },
     "execution_count": 25,
     "metadata": {},
     "output_type": "execute_result"
    }
   ],
   "source": [
    "result2(\"input.txt\")"
   ]
  }
 ],
 "metadata": {
  "kernelspec": {
   "display_name": "aoc_env",
   "language": "python",
   "name": "python3"
  },
  "language_info": {
   "codemirror_mode": {
    "name": "ipython",
    "version": 3
   },
   "file_extension": ".py",
   "mimetype": "text/x-python",
   "name": "python",
   "nbconvert_exporter": "python",
   "pygments_lexer": "ipython3",
   "version": "3.13.0"
  }
 },
 "nbformat": 4,
 "nbformat_minor": 2
}
