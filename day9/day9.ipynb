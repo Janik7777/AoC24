{
 "cells": [
  {
   "cell_type": "markdown",
   "metadata": {},
   "source": [
    "# Day 9: Disk Fragmenter\n",
    "Another push of the button leaves you in the familiar hallways of some friendly amphipods! Good thing you each somehow got your own personal mini submarine. The Historians jet away in search of the Chief, mostly by driving directly into walls.\n",
    "\n",
    "While The Historians quickly figure out how to pilot these things, you notice an amphipod in the corner struggling with his computer. He's trying to make more contiguous free space by compacting all of the files, but his program isn't working; you offer to help.\n",
    "\n",
    "He shows you the disk map (your puzzle input) he's already generated. For example:\n",
    "\n",
    "```\n",
    "2333133121414131402\n",
    "```\n",
    "\n",
    "The disk map uses a dense format to represent the layout of files and free space on the disk. The digits alternate between indicating the length of a file and the length of free space.\n",
    "\n",
    "So, a disk map like 12345 would represent a one-block file, two blocks of free space, a three-block file, four blocks of free space, and then a five-block file. A disk map like 90909 would represent three nine-block files in a row (with no free space between them).\n",
    "\n",
    "Each file on disk also has an ID number based on the order of the files as they appear before they are rearranged, starting with ID 0. So, the disk map 12345 has three files: a one-block file with ID 0, a three-block file with ID 1, and a five-block file with ID 2. Using one character for each block where digits are the file ID and . is free space, the disk map 12345 represents these individual blocks:\n",
    "\n",
    "```\n",
    "0..111....22222\n",
    "```\n",
    "\n",
    "The first example above, 2333133121414131402, represents these individual blocks:\n",
    "\n",
    "```\n",
    "00...111...2...333.44.5555.6666.777.888899\n",
    "```\n",
    "\n",
    "The amphipod would like to move file blocks one at a time from the end of the disk to the leftmost free space block (until there are no gaps remaining between file blocks). For the disk map 12345, the process looks like this:\n",
    "\n",
    "```\n",
    "0..111....22222\n",
    "02.111....2222.\n",
    "022111....222..\n",
    "0221112...22...\n",
    "02211122..2....\n",
    "022111222......\n",
    "```\n",
    "\n",
    "The first example requires a few more steps:\n",
    "\n",
    "```\n",
    "00...111...2...333.44.5555.6666.777.888899\n",
    "009..111...2...333.44.5555.6666.777.88889.\n",
    "0099.111...2...333.44.5555.6666.777.8888..\n",
    "00998111...2...333.44.5555.6666.777.888...\n",
    "009981118..2...333.44.5555.6666.777.88....\n",
    "0099811188.2...333.44.5555.6666.777.8.....\n",
    "009981118882...333.44.5555.6666.777.......\n",
    "0099811188827..333.44.5555.6666.77........\n",
    "00998111888277.333.44.5555.6666.7.........\n",
    "009981118882777333.44.5555.6666...........\n",
    "009981118882777333644.5555.666............\n",
    "00998111888277733364465555.66.............\n",
    "0099811188827773336446555566..............\n",
    "```\n",
    "\n",
    "The final step of this file-compacting process is to update the filesystem checksum. To calculate the checksum, add up the result of multiplying each of these blocks' position with the file ID number it contains. The leftmost block is in position 0. If a block contains free space, skip it instead.\n",
    "\n",
    "Continuing the first example, the first few blocks' position multiplied by its file ID number are 0 * 0 = 0, 1 * 0 = 0, 2 * 9 = 18, 3 * 9 = 27, 4 * 8 = 32, and so on. In this example, the checksum is the sum of these, 1928.\n",
    "\n",
    "Compact the amphipod's hard drive using the process he requested. What is the resulting filesystem checksum? (Be careful copy/pasting the input for this puzzle; it is a single, very long line.)"
   ]
  },
  {
   "cell_type": "code",
   "execution_count": 31,
   "metadata": {},
   "outputs": [],
   "source": [
    "def result(inputfile):\n",
    "    with open(inputfile) as f:\n",
    "        for line in f:\n",
    "            input = [int(c) for c in [*line.strip()]]\n",
    "    disk = []\n",
    "    for i, number in enumerate(input):\n",
    "        if i % 2 == 0:\n",
    "            id = (i // 2)\n",
    "            for _ in range(number):\n",
    "                disk.append(id)\n",
    "        else:\n",
    "            for _ in range(number):\n",
    "                disk.append(-1)\n",
    "    result = 0\n",
    "    i = 0\n",
    "    j = len(disk) - 1\n",
    "    while i <= j:\n",
    "        if disk[i] != -1:\n",
    "            result += int(disk[i]) * i\n",
    "        else:\n",
    "            while disk[j] == -1:\n",
    "                j -= 1\n",
    "            result += int(disk[j]) * i\n",
    "            j -= 1\n",
    "        i += 1\n",
    "    \n",
    "    return result"
   ]
  },
  {
   "cell_type": "code",
   "execution_count": 32,
   "metadata": {},
   "outputs": [
    {
     "data": {
      "text/plain": [
       "1928"
      ]
     },
     "execution_count": 32,
     "metadata": {},
     "output_type": "execute_result"
    }
   ],
   "source": [
    "result(\"example-input.txt\")"
   ]
  },
  {
   "cell_type": "code",
   "execution_count": 33,
   "metadata": {},
   "outputs": [
    {
     "data": {
      "text/plain": [
       "6435922584968"
      ]
     },
     "execution_count": 33,
     "metadata": {},
     "output_type": "execute_result"
    }
   ],
   "source": [
    "result(\"input.txt\")"
   ]
  },
  {
   "cell_type": "markdown",
   "metadata": {},
   "source": [
    "# Part Two\n",
    "Upon completion, two things immediately become clear. First, the disk definitely has a lot more contiguous free space, just like the amphipod hoped. Second, the computer is running much more slowly! Maybe introducing all of that file system fragmentation was a bad idea?\n",
    "\n",
    "The eager amphipod already has a new plan: rather than move individual blocks, he'd like to try compacting the files on his disk by moving whole files instead.\n",
    "\n",
    "This time, attempt to move whole files to the leftmost span of free space blocks that could fit the file. Attempt to move each file exactly once in order of decreasing file ID number starting with the file with the highest file ID number. If there is no span of free space to the left of a file that is large enough to fit the file, the file does not move.\n",
    "\n",
    "The first example from above now proceeds differently:\n",
    "\n",
    "```\n",
    "00...111...2...333.44.5555.6666.777.888899\n",
    "0099.111...2...333.44.5555.6666.777.8888..\n",
    "0099.1117772...333.44.5555.6666.....8888..\n",
    "0099.111777244.333....5555.6666.....8888..\n",
    "00992111777.44.333....5555.6666.....8888..\n",
    "```\n",
    "\n",
    "The process of updating the filesystem checksum is the same; now, this example's checksum would be 2858.\n",
    "\n",
    "Start over, now compacting the amphipod's hard drive using this new method instead. What is the resulting filesystem checksum?"
   ]
  },
  {
   "cell_type": "code",
   "execution_count": 65,
   "metadata": {},
   "outputs": [],
   "source": [
    "def result2(inputfile):\n",
    "    with open(inputfile) as f:\n",
    "        for line in f:\n",
    "            input = [int(c) for c in [*line.strip()]]\n",
    "    disk = []\n",
    "    spaces = []\n",
    "    files = []\n",
    "    for i, number in enumerate(input):\n",
    "        if i % 2 == 0:\n",
    "            if number != 0:\n",
    "                files.append(tuple([len(disk),number]))\n",
    "            id = (i // 2)\n",
    "            for _ in range(number):\n",
    "                disk.append(id)\n",
    "        else:\n",
    "            if number != 0:\n",
    "                spaces.append(tuple([len(disk),number]))\n",
    "            for _ in range(number):\n",
    "                disk.append(-1)\n",
    "    for i in range(len(files) - 1, 0, -1):\n",
    "        id_i, length_i = files[i]\n",
    "        for j, space in enumerate(spaces):\n",
    "            id_j, length_j = space\n",
    "            if id_i < id_j:\n",
    "                break\n",
    "            if length_i <= length_j:\n",
    "                for k in range(length_i):\n",
    "                    disk[id_j + k] = i\n",
    "                    disk[id_i + k] = -1\n",
    "                spaces[j] = tuple([id_j + length_i,length_j - length_i])\n",
    "                break\n",
    "    \n",
    "    result = 0\n",
    "    for i, id in enumerate(disk):\n",
    "        if id != -1:\n",
    "            result += i * id\n",
    "    return result\n"
   ]
  },
  {
   "cell_type": "code",
   "execution_count": 66,
   "metadata": {},
   "outputs": [
    {
     "data": {
      "text/plain": [
       "2858"
      ]
     },
     "execution_count": 66,
     "metadata": {},
     "output_type": "execute_result"
    }
   ],
   "source": [
    "result2(\"example-input.txt\")"
   ]
  },
  {
   "cell_type": "code",
   "execution_count": 67,
   "metadata": {},
   "outputs": [
    {
     "data": {
      "text/plain": [
       "6469636832766"
      ]
     },
     "execution_count": 67,
     "metadata": {},
     "output_type": "execute_result"
    }
   ],
   "source": [
    "result2(\"input.txt\")"
   ]
  }
 ],
 "metadata": {
  "kernelspec": {
   "display_name": "aoc_env",
   "language": "python",
   "name": "python3"
  },
  "language_info": {
   "codemirror_mode": {
    "name": "ipython",
    "version": 3
   },
   "file_extension": ".py",
   "mimetype": "text/x-python",
   "name": "python",
   "nbconvert_exporter": "python",
   "pygments_lexer": "ipython3",
   "version": "3.13.0"
  }
 },
 "nbformat": 4,
 "nbformat_minor": 2
}
