{
 "cells": [
  {
   "cell_type": "markdown",
   "metadata": {},
   "source": [
    "# Day 17: Chronospatial Computer\n",
    "The Historians push the button on their strange device, but this time, you all just feel like you're falling.\n",
    "\n",
    "\"Situation critical\", the device announces in a familiar voice. \"Bootstrapping process failed. Initializing debugger....\"\n",
    "\n",
    "The small handheld device suddenly unfolds into an entire computer! The Historians look around nervously before one of them tosses it to you.\n",
    "\n",
    "This seems to be a 3-bit computer: its program is a list of 3-bit numbers (0 through 7), like 0,1,2,3. The computer also has three registers named A, B, and C, but these registers aren't limited to 3 bits and can instead hold any integer.\n",
    "\n",
    "The computer knows eight instructions, each identified by a 3-bit number (called the instruction's opcode). Each instruction also reads the 3-bit number after it as an input; this is called its operand.\n",
    "\n",
    "A number called the instruction pointer identifies the position in the program from which the next opcode will be read; it starts at 0, pointing at the first 3-bit number in the program. Except for jump instructions, the instruction pointer increases by 2 after each instruction is processed (to move past the instruction's opcode and its operand). If the computer tries to read an opcode past the end of the program, it instead halts.\n",
    "\n",
    "So, the program 0,1,2,3 would run the instruction whose opcode is 0 and pass it the operand 1, then run the instruction having opcode 2 and pass it the operand 3, then halt.\n",
    "\n",
    "There are two types of operands; each instruction specifies the type of its operand. The value of a literal operand is the operand itself. For example, the value of the literal operand 7 is the number 7. The value of a combo operand can be found as follows:\n",
    "\n",
    "- Combo operands 0 through 3 represent literal values 0 through 3.\n",
    "- Combo operand 4 represents the value of register A.\n",
    "- Combo operand 5 represents the value of register B.\n",
    "- Combo operand 6 represents the value of register C.\n",
    "- Combo operand 7 is reserved and will not appear in valid programs.\n",
    "\n",
    "The eight instructions are as follows:\n",
    "\n",
    "The adv instruction (opcode 0) performs division. The numerator is the value in the A register. The denominator is found by raising 2 to the power of the instruction's combo operand. (So, an operand of 2 would divide A by 4 (2^2); an operand of 5 would divide A by 2^B.) The result of the division operation is truncated to an integer and then written to the A register.\n",
    "\n",
    "The bxl instruction (opcode 1) calculates the bitwise XOR of register B and the instruction's literal operand, then stores the result in register B.\n",
    "\n",
    "The bst instruction (opcode 2) calculates the value of its combo operand modulo 8 (thereby keeping only its lowest 3 bits), then writes that value to the B register.\n",
    "\n",
    "The jnz instruction (opcode 3) does nothing if the A register is 0. However, if the A register is not zero, it jumps by setting the instruction pointer to the value of its literal operand; if this instruction jumps, the instruction pointer is not increased by 2 after this instruction.\n",
    "\n",
    "The bxc instruction (opcode 4) calculates the bitwise XOR of register B and register C, then stores the result in register B. (For legacy reasons, this instruction reads an operand but ignores it.)\n",
    "\n",
    "The out instruction (opcode 5) calculates the value of its combo operand modulo 8, then outputs that value. (If a program outputs multiple values, they are separated by commas.)\n",
    "\n",
    "The bdv instruction (opcode 6) works exactly like the adv instruction except that the result is stored in the B register. (The numerator is still read from the A register.)\n",
    "\n",
    "The cdv instruction (opcode 7) works exactly like the adv instruction except that the result is stored in the C register. (The numerator is still read from the A register.)\n",
    "\n",
    "Here are some examples of instruction operation:\n",
    "\n",
    "- If register C contains 9, the program 2,6 would set register B to 1.\n",
    "- If register A contains 10, the program 5,0,5,1,5,4 would output 0,1,2.\n",
    "- If register A contains 2024, the program 0,1,5,4,3,0 would output 4,2,5,6,7,7,7,7,3,1,0 and leave 0 in register A.\n",
    "- If register B contains 29, the program 1,7 would set register B to 26.\n",
    "- If register B contains 2024 and register C contains 43690, the program 4,0 would set register B to 44354.\n",
    "\n",
    "The Historians' strange device has finished initializing its debugger and is displaying some information about the program it is trying to run (your puzzle input). For example:\n",
    "\n",
    "```\n",
    "Register A: 729\n",
    "Register B: 0\n",
    "Register C: 0\n",
    "\n",
    "Program: 0,1,5,4,3,0\n",
    "```\n",
    "\n",
    "Your first task is to determine what the program is trying to output. To do this, initialize the registers to the given values, then run the given program, collecting any output produced by out instructions. (Always join the values produced by out instructions with commas.) After the above program halts, its final output will be 4,6,3,5,6,3,5,2,1,0.\n",
    "\n",
    "Using the information provided by the debugger, initialize the registers to the given values, then run the program. Once it halts, what do you get if you use commas to join the values it output into a single string?"
   ]
  },
  {
   "cell_type": "code",
   "execution_count": 187,
   "metadata": {},
   "outputs": [],
   "source": [
    "def result(inputfile):\n",
    "    with open(inputfile) as f:\n",
    "        for i, line in enumerate(f):\n",
    "            if i == 0:\n",
    "                register_A = int(line.strip().split(\" \")[2])\n",
    "            if i == 1:\n",
    "                register_B = int(line.strip().split(\" \")[2])\n",
    "            if i == 2:\n",
    "                register_C = int(line.strip().split(\" \")[2])\n",
    "            if i == 4:\n",
    "                program = line.strip().split(\" \")[1].split(\",\")\n",
    "    \n",
    "    output = []\n",
    "    \n",
    "    def combo_operand(operand):\n",
    "        match operand:\n",
    "            case '0':\n",
    "                return 0\n",
    "            case '1':\n",
    "                return 1\n",
    "            case '2':\n",
    "                return 2\n",
    "            case '3':\n",
    "                return 3\n",
    "            case '4':\n",
    "                return register_A\n",
    "            case '5':\n",
    "                return register_B\n",
    "            case '6':\n",
    "                return register_C\n",
    "            case '7':\n",
    "                raise Exception()\n",
    "            \n",
    "\n",
    "    def run_operation(pointer):\n",
    "        nonlocal register_A, register_B, register_C\n",
    "        opcode = program[pointer]\n",
    "        operand = program[pointer + 1]\n",
    "        next_pointer = pointer + 2\n",
    "        match opcode:\n",
    "            case '0':\n",
    "                register_A = register_A // (2**combo_operand(operand))\n",
    "            case '1':\n",
    "                register_B = register_B ^ int(operand)\n",
    "            case '2':\n",
    "                register_B = combo_operand(operand) % 8\n",
    "            case '3':\n",
    "                if register_A != 0:\n",
    "                    next_pointer = int(operand)\n",
    "            case '4':\n",
    "                register_B = register_B ^ register_C\n",
    "            case '5':\n",
    "                output.append(str(combo_operand(operand) % 8))\n",
    "            case '6':\n",
    "                register_B = register_A // (2**combo_operand(operand))\n",
    "            case '7':\n",
    "                register_C = register_A // (2**combo_operand(operand))\n",
    "        \n",
    "        return next_pointer\n",
    "    \n",
    "    pointer = 0\n",
    "    while(pointer < len(program) - 1):\n",
    "        pointer = run_operation(pointer)\n",
    "    \n",
    "    print(\",\".join(output))"
   ]
  },
  {
   "cell_type": "code",
   "execution_count": 188,
   "metadata": {},
   "outputs": [
    {
     "name": "stdout",
     "output_type": "stream",
     "text": [
      "4,6,3,5,6,3,5,2,1,0\n"
     ]
    }
   ],
   "source": [
    "result(\"example-input.txt\")"
   ]
  },
  {
   "cell_type": "code",
   "execution_count": 189,
   "metadata": {},
   "outputs": [
    {
     "name": "stdout",
     "output_type": "stream",
     "text": [
      "0,3,5,4,3,0\n"
     ]
    }
   ],
   "source": [
    "result(\"example-input-2.txt\")"
   ]
  },
  {
   "cell_type": "code",
   "execution_count": 190,
   "metadata": {},
   "outputs": [
    {
     "name": "stdout",
     "output_type": "stream",
     "text": [
      "2,1,3,0,5,2,3,7,1\n"
     ]
    }
   ],
   "source": [
    "result(\"input.txt\")"
   ]
  },
  {
   "cell_type": "markdown",
   "metadata": {},
   "source": [
    "# Part Two\n",
    "Digging deeper in the device's manual, you discover the problem: this program is supposed to output another copy of the program! Unfortunately, the value in register A seems to have been corrupted. You'll need to find a new value to which you can initialize register A so that the program's output instructions produce an exact copy of the program itself.\n",
    "\n",
    "For example:\n",
    "\n",
    "```\n",
    "Register A: 2024\n",
    "Register B: 0\n",
    "Register C: 0\n",
    "\n",
    "Program: 0,3,5,4,3,0\n",
    "```\n",
    "\n",
    "This program outputs a copy of itself if register A is instead initialized to 117440. (The original initial value of register A, 2024, is ignored.)\n",
    "\n",
    "What is the lowest positive initial value for register A that causes the program to output a copy of itself?"
   ]
  },
  {
   "cell_type": "code",
   "execution_count": 199,
   "metadata": {},
   "outputs": [],
   "source": [
    "def result2(inputfile):\n",
    "    with open(inputfile) as f:\n",
    "        for i, line in enumerate(f):\n",
    "            if i == 4:\n",
    "                program_to_copy = line.strip().split(\" \")[1].split(\",\")\n",
    "    \n",
    "    def combo_operand(operand):\n",
    "        match operand:\n",
    "            case '0':\n",
    "                return 0\n",
    "            case '1':\n",
    "                return 1\n",
    "            case '2':\n",
    "                return 2\n",
    "            case '3':\n",
    "                return 3\n",
    "            case '4':\n",
    "                return register_A\n",
    "            case '5':\n",
    "                return register_B\n",
    "            case '6':\n",
    "                return register_C\n",
    "            case '7':\n",
    "                raise Exception()\n",
    "            \n",
    "\n",
    "    def run_operation(pointer):\n",
    "        nonlocal register_A, register_B, register_C\n",
    "        opcode = program[pointer]\n",
    "        operand = program[pointer + 1]\n",
    "        next_pointer = pointer + 2\n",
    "\n",
    "        out = \"\"\n",
    "        match opcode:\n",
    "            case '0':\n",
    "                register_A = register_A // (2**combo_operand(operand))\n",
    "            case '1':\n",
    "                register_B = register_B ^ int(operand)\n",
    "            case '2':\n",
    "                register_B = combo_operand(operand) % 8\n",
    "            case '3':\n",
    "                return 1000, \"\"\n",
    "            case '4':\n",
    "                register_B = register_B ^ register_C\n",
    "            case '5':\n",
    "                out = str(combo_operand(operand) % 8)\n",
    "            case '6':\n",
    "                register_B = register_A // (2**combo_operand(operand))\n",
    "            case '7':\n",
    "                register_C = register_A // (2**combo_operand(operand))\n",
    "        \n",
    "        return next_pointer, out\n",
    "    \n",
    "    program = \"2,4,1,5,7,5,1,6,4,3,5,5\".split(\",\")\n",
    "\n",
    "    A_possibilities = list(range(8))\n",
    "    for i in range(len(program_to_copy) - 1, -1, -1):\n",
    "        next_possibilies = []\n",
    "        for A_2 in A_possibilities:\n",
    "            for A_1 in range(8):\n",
    "                register_A = A_2 * 8 + A_1\n",
    "                register_B = 0\n",
    "                register_C = 0\n",
    "                pointer = 0\n",
    "                out = \"\"\n",
    "                while(out == \"\"):\n",
    "                    pointer, out = run_operation(pointer)\n",
    "                if out == program_to_copy[i]:\n",
    "                    next_possibilies.append(A_2 * 8 + A_1)\n",
    "        A_possibilities = next_possibilies\n",
    "\n",
    "    return min(A_possibilities)\n"
   ]
  },
  {
   "cell_type": "code",
   "execution_count": 200,
   "metadata": {},
   "outputs": [
    {
     "data": {
      "text/plain": [
       "107416732707226"
      ]
     },
     "execution_count": 200,
     "metadata": {},
     "output_type": "execute_result"
    }
   ],
   "source": [
    "result2(\"input.txt\")"
   ]
  }
 ],
 "metadata": {
  "kernelspec": {
   "display_name": "aoc_env",
   "language": "python",
   "name": "python3"
  },
  "language_info": {
   "codemirror_mode": {
    "name": "ipython",
    "version": 3
   },
   "file_extension": ".py",
   "mimetype": "text/x-python",
   "name": "python",
   "nbconvert_exporter": "python",
   "pygments_lexer": "ipython3",
   "version": "3.13.0"
  }
 },
 "nbformat": 4,
 "nbformat_minor": 2
}
