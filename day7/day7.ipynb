{
 "cells": [
  {
   "cell_type": "markdown",
   "metadata": {},
   "source": [
    "# Day 7: Bridge Repair\n",
    "The Historians take you to a familiar rope bridge over a river in the middle of a jungle. The Chief isn't on this side of the bridge, though; maybe he's on the other side?\n",
    "\n",
    "When you go to cross the bridge, you notice a group of engineers trying to repair it. (Apparently, it breaks pretty frequently.) You won't be able to cross until it's fixed.\n",
    "\n",
    "You ask how long it'll take; the engineers tell you that it only needs final calibrations, but some young elephants were playing nearby and stole all the operators from their calibration equations! They could finish the calibrations if only someone could determine which test values could possibly be produced by placing any combination of operators into their calibration equations (your puzzle input).\n",
    "\n",
    "For example:\n",
    "\n",
    "```\n",
    "190: 10 19\n",
    "3267: 81 40 27\n",
    "83: 17 5\n",
    "156: 15 6\n",
    "7290: 6 8 6 15\n",
    "161011: 16 10 13\n",
    "192: 17 8 14\n",
    "21037: 9 7 18 13\n",
    "292: 11 6 16 20\n",
    "```\n",
    "\n",
    "Each line represents a single equation. The test value appears before the colon on each line; it is your job to determine whether the remaining numbers can be combined with operators to produce the test value.\n",
    "\n",
    "Operators are always evaluated left-to-right, not according to precedence rules. Furthermore, numbers in the equations cannot be rearranged. Glancing into the jungle, you can see elephants holding two different types of operators: add (+) and multiply (*).\n",
    "\n",
    "Only three of the above equations can be made true by inserting operators:\n",
    "\n",
    "- 190: 10 19 has only one position that accepts an operator: between 10 and 19. Choosing + would give 29, but choosing * would give the test value (10 * 19 = 190).\n",
    "- 3267: 81 40 27 has two positions for operators. Of the four possible configurations of the operators, two cause the right side to match the test value: 81 + 40 * 27 and 81 * 40 + 27 both equal 3267 (when evaluated left-to-right)!\n",
    "- 292: 11 6 16 20 can be solved in exactly one way: 11 + 6 * 16 + 20.\n",
    "\n",
    "The engineers just need the total calibration result, which is the sum of the test values from just the equations that could possibly be true. In the above example, the sum of the test values for the three equations listed above is 3749.\n",
    "\n",
    "Determine which equations could possibly be true. What is their total calibration result?"
   ]
  },
  {
   "cell_type": "code",
   "execution_count": 28,
   "metadata": {},
   "outputs": [],
   "source": [
    "def testEquation(test_value, numberList):\n",
    "    possibilities = set([numberList])\n",
    "    while len(possibilities) > 0:\n",
    "        current = possibilities.pop()\n",
    "        if len(current) == 1:\n",
    "            if current[0] == test_value:\n",
    "                return True\n",
    "        else:\n",
    "            plus_touple = ((current[0] + current[1]),) + current[2:]\n",
    "            mult_touple = ((current[0] * current[1]),) + current[2:]\n",
    "            possibilities.add(plus_touple)\n",
    "            possibilities.add(mult_touple)\n",
    "    return False\n",
    "\n",
    "\n",
    "\n",
    "def result(inputfile):\n",
    "    result = 0\n",
    "    with open(inputfile) as f:\n",
    "        for line in f:\n",
    "            test_value, numbers = line.strip().split(': ')\n",
    "            numberList = tuple([int(number) for number in numbers.split(' ')])\n",
    "            if testEquation(int(test_value), numberList):\n",
    "                result += int(test_value)\n",
    "    return result"
   ]
  },
  {
   "cell_type": "code",
   "execution_count": 29,
   "metadata": {},
   "outputs": [
    {
     "data": {
      "text/plain": [
       "3749"
      ]
     },
     "execution_count": 29,
     "metadata": {},
     "output_type": "execute_result"
    }
   ],
   "source": [
    "result(\"example-input.txt\")"
   ]
  },
  {
   "cell_type": "code",
   "execution_count": 30,
   "metadata": {},
   "outputs": [
    {
     "data": {
      "text/plain": [
       "12553187650171"
      ]
     },
     "execution_count": 30,
     "metadata": {},
     "output_type": "execute_result"
    }
   ],
   "source": [
    "result(\"input.txt\")"
   ]
  },
  {
   "cell_type": "markdown",
   "metadata": {},
   "source": [
    "# Part Two \n",
    "The engineers seem concerned; the total calibration result you gave them is nowhere close to being within safety tolerances. Just then, you spot your mistake: some well-hidden elephants are holding a third type of operator.\n",
    "\n",
    "The concatenation operator (||) combines the digits from its left and right inputs into a single number. For example, 12 || 345 would become 12345. All operators are still evaluated left-to-right.\n",
    "\n",
    "Now, apart from the three equations that could be made true using only addition and multiplication, the above example has three more equations that can be made true by inserting operators:\n",
    "\n",
    "- 156: 15 6 can be made true through a single concatenation: 15 || 6 = 156.\n",
    "- 7290: 6 8 6 15 can be made true using 6 * 8 || 6 * 15.\n",
    "- 192: 17 8 14 can be made true using 17 || 8 + 14.\n",
    "\n",
    "Adding up all six test values (the three that could be made before using only + and * plus the new three that can now be made by also using ||) produces the new total calibration result of 11387.\n",
    "\n",
    "Using your new knowledge of elephant hiding spots, determine which equations could possibly be true. What is their total calibration result?"
   ]
  },
  {
   "cell_type": "code",
   "execution_count": 31,
   "metadata": {},
   "outputs": [],
   "source": [
    "def testEquation2(test_value, numberList):\n",
    "    possibilities = set([numberList])\n",
    "    while len(possibilities) > 0:\n",
    "        current = possibilities.pop()\n",
    "        if len(current) == 1:\n",
    "            if current[0] == test_value:\n",
    "                return True\n",
    "        else:\n",
    "            plus_touple = ((current[0] + current[1]),) + current[2:]\n",
    "            mult_touple = ((current[0] * current[1]),) + current[2:]\n",
    "            conc_touple = ((int(str(current[0]) + str(current[1]))),) + current[2:]\n",
    "            possibilities.add(plus_touple)\n",
    "            possibilities.add(mult_touple)\n",
    "            possibilities.add(conc_touple)\n",
    "    return False\n",
    "\n",
    "\n",
    "\n",
    "def result2(inputfile):\n",
    "    result = 0\n",
    "    with open(inputfile) as f:\n",
    "        for line in f:\n",
    "            test_value, numbers = line.strip().split(': ')\n",
    "            numberList = tuple([int(number) for number in numbers.split(' ')])\n",
    "            if testEquation2(int(test_value), numberList):\n",
    "                result += int(test_value)\n",
    "    return result"
   ]
  },
  {
   "cell_type": "code",
   "execution_count": 32,
   "metadata": {},
   "outputs": [
    {
     "data": {
      "text/plain": [
       "11387"
      ]
     },
     "execution_count": 32,
     "metadata": {},
     "output_type": "execute_result"
    }
   ],
   "source": [
    "result2(\"example-input.txt\")"
   ]
  },
  {
   "cell_type": "code",
   "execution_count": 33,
   "metadata": {},
   "outputs": [
    {
     "data": {
      "text/plain": [
       "96779702119491"
      ]
     },
     "execution_count": 33,
     "metadata": {},
     "output_type": "execute_result"
    }
   ],
   "source": [
    "result2(\"input.txt\")"
   ]
  }
 ],
 "metadata": {
  "kernelspec": {
   "display_name": "aoc_env",
   "language": "python",
   "name": "python3"
  },
  "language_info": {
   "codemirror_mode": {
    "name": "ipython",
    "version": 3
   },
   "file_extension": ".py",
   "mimetype": "text/x-python",
   "name": "python",
   "nbconvert_exporter": "python",
   "pygments_lexer": "ipython3",
   "version": "3.13.0"
  }
 },
 "nbformat": 4,
 "nbformat_minor": 2
}
