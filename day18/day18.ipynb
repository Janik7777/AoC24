{
 "cells": [
  {
   "cell_type": "markdown",
   "metadata": {},
   "source": [
    "# Day 18: RAM Run\n",
    "You and The Historians look a lot more pixelated than you remember. You're inside a computer at the North Pole!\n",
    "\n",
    "Just as you're about to check out your surroundings, a program runs up to you. \"This region of memory isn't safe! The User misunderstood what a pushdown automaton is and their algorithm is pushing whole bytes down on top of us! Run!\"\n",
    "\n",
    "The algorithm is fast - it's going to cause a byte to fall into your memory space once every nanosecond! Fortunately, you're faster, and by quickly scanning the algorithm, you create a list of which bytes will fall (your puzzle input) in the order they'll land in your memory space.\n",
    "\n",
    "Your memory space is a two-dimensional grid with coordinates that range from 0 to 70 both horizontally and vertically. However, for the sake of example, suppose you're on a smaller grid with coordinates that range from 0 to 6 and the following list of incoming byte positions:\n",
    "\n",
    "```\n",
    "5,4\n",
    "4,2\n",
    "4,5\n",
    "3,0\n",
    "2,1\n",
    "6,3\n",
    "2,4\n",
    "1,5\n",
    "0,6\n",
    "3,3\n",
    "2,6\n",
    "5,1\n",
    "1,2\n",
    "5,5\n",
    "2,5\n",
    "6,5\n",
    "1,4\n",
    "0,4\n",
    "6,4\n",
    "1,1\n",
    "6,1\n",
    "1,0\n",
    "0,5\n",
    "1,6\n",
    "2,0\n",
    "```\n",
    "\n",
    "Each byte position is given as an X,Y coordinate, where X is the distance from the left edge of your memory space and Y is the distance from the top edge of your memory space.\n",
    "\n",
    "You and The Historians are currently in the top left corner of the memory space (at 0,0) and need to reach the exit in the bottom right corner (at 70,70 in your memory space, but at 6,6 in this example). You'll need to simulate the falling bytes to plan out where it will be safe to run; for now, simulate just the first few bytes falling into your memory space.\n",
    "\n",
    "As bytes fall into your memory space, they make that coordinate corrupted. Corrupted memory coordinates cannot be entered by you or The Historians, so you'll need to plan your route carefully. You also cannot leave the boundaries of the memory space; your only hope is to reach the exit.\n",
    "\n",
    "In the above example, if you were to draw the memory space after the first 12 bytes have fallen (using . for safe and # for corrupted), it would look like this:\n",
    "\n",
    "```\n",
    "...#...\n",
    "..#..#.\n",
    "....#..\n",
    "...#..#\n",
    "..#..#.\n",
    ".#..#..\n",
    "#.#....\n",
    "```\n",
    "\n",
    "You can take steps up, down, left, or right. After just 12 bytes have corrupted locations in your memory space, the shortest path from the top left corner to the exit would take 22 steps. Here (marked with O) is one such path:\n",
    "\n",
    "```\n",
    "OO.#OOO\n",
    ".O#OO#O\n",
    ".OOO#OO\n",
    "...#OO#\n",
    "..#OO#.\n",
    ".#.O#..\n",
    "#.#OOOO\n",
    "```\n",
    "\n",
    "Simulate the first kilobyte (1024 bytes) falling onto your memory space. Afterward, what is the minimum number of steps needed to reach the exit?"
   ]
  },
  {
   "cell_type": "code",
   "execution_count": 8,
   "metadata": {},
   "outputs": [],
   "source": [
    "import networkx as nx\n",
    "\n",
    "from collections import defaultdict\n",
    "\n",
    "def name(y,x):\n",
    "    return str(y) + \",\" + str(x)\n",
    "\n",
    "def result(inputfile, size=71, bytes=1024):\n",
    "\n",
    "    tileFree =defaultdict(lambda: defaultdict(lambda:True))\n",
    "\n",
    "    with open(inputfile) as f:\n",
    "        for i, line in enumerate(f):\n",
    "            if i == bytes:\n",
    "                break\n",
    "            cords = line.strip().split(',')\n",
    "            tileFree[int(cords[1])][int(cords[0])] = False\n",
    "\n",
    "    G = nx.Graph()\n",
    "    for x in range(size):\n",
    "        for y in range(size):\n",
    "            if tileFree[y][x]:\n",
    "                if y + 1 != size and tileFree[y + 1][x]:\n",
    "                    G.add_edge(name(y,x), name(y+1,x))\n",
    "                if x + 1 != size and tileFree[y][x + 1]:\n",
    "                    G.add_edge(name(y,x), name(y,x+1))\n",
    "    \n",
    "    return nx.shortest_path_length(G, source=name(0,0), target=name(size-1, size-1))"
   ]
  },
  {
   "cell_type": "code",
   "execution_count": 9,
   "metadata": {},
   "outputs": [
    {
     "data": {
      "text/plain": [
       "22"
      ]
     },
     "execution_count": 9,
     "metadata": {},
     "output_type": "execute_result"
    }
   ],
   "source": [
    "result(\"example-input.txt\", 7, 12)"
   ]
  },
  {
   "cell_type": "code",
   "execution_count": 10,
   "metadata": {},
   "outputs": [
    {
     "data": {
      "text/plain": [
       "438"
      ]
     },
     "execution_count": 10,
     "metadata": {},
     "output_type": "execute_result"
    }
   ],
   "source": [
    "result(\"input.txt\")"
   ]
  },
  {
   "cell_type": "markdown",
   "metadata": {},
   "source": [
    "# Part Two\n",
    "The Historians aren't as used to moving around in this pixelated universe as you are. You're afraid they're not going to be fast enough to make it to the exit before the path is completely blocked.\n",
    "\n",
    "To determine how fast everyone needs to go, you need to determine the first byte that will cut off the path to the exit.\n",
    "\n",
    "In the above example, after the byte at 1,1 falls, there is still a path to the exit:\n",
    "\n",
    "```\n",
    "O..#OOO\n",
    "O##OO#O\n",
    "O#OO#OO\n",
    "OOO#OO#\n",
    "###OO##\n",
    ".##O###\n",
    "#.#OOOO\n",
    "```\n",
    "\n",
    "However, after adding the very next byte (at 6,1), there is no longer a path to the exit:\n",
    "\n",
    "```\n",
    "...#...\n",
    ".##..##\n",
    ".#..#..\n",
    "...#..#\n",
    "###..##\n",
    ".##.###\n",
    "#.#....\n",
    "```\n",
    "\n",
    "So, in this example, the coordinates of the first byte that prevents the exit from being reachable are 6,1.\n",
    "\n",
    "Simulate more of the bytes that are about to corrupt your memory space. What are the coordinates of the first byte that will prevent the exit from being reachable from your starting position? (Provide the answer as two integers separated by a comma with no other characters.)"
   ]
  },
  {
   "cell_type": "code",
   "execution_count": 17,
   "metadata": {},
   "outputs": [],
   "source": [
    "def result2(inputfile, size=71):\n",
    "\n",
    "    G = nx.Graph()\n",
    "    for x in range(size):\n",
    "        for y in range(size):\n",
    "            if y + 1 != size:\n",
    "                G.add_edge(name(y,x), name(y+1,x))\n",
    "            if x + 1 != size:\n",
    "                G.add_edge(name(y,x), name(y,x+1))\n",
    "\n",
    "    with open(inputfile) as f:\n",
    "        for i, line in enumerate(f):\n",
    "            G.remove_node(line.strip())\n",
    "            if not nx.has_path(G, source=name(0,0), target=name(size-1, size-1)):\n",
    "                print(line)\n",
    "                return"
   ]
  },
  {
   "cell_type": "code",
   "execution_count": 16,
   "metadata": {},
   "outputs": [
    {
     "name": "stdout",
     "output_type": "stream",
     "text": [
      "6,1\n",
      "\n"
     ]
    }
   ],
   "source": [
    "result2(\"example-input.txt\", 7)"
   ]
  },
  {
   "cell_type": "code",
   "execution_count": 18,
   "metadata": {},
   "outputs": [
    {
     "name": "stdout",
     "output_type": "stream",
     "text": [
      "26,22\n",
      "\n"
     ]
    }
   ],
   "source": [
    "result2(\"input.txt\", 71)"
   ]
  }
 ],
 "metadata": {
  "kernelspec": {
   "display_name": "aoc_env",
   "language": "python",
   "name": "python3"
  },
  "language_info": {
   "codemirror_mode": {
    "name": "ipython",
    "version": 3
   },
   "file_extension": ".py",
   "mimetype": "text/x-python",
   "name": "python",
   "nbconvert_exporter": "python",
   "pygments_lexer": "ipython3",
   "version": "3.13.0"
  }
 },
 "nbformat": 4,
 "nbformat_minor": 2
}
