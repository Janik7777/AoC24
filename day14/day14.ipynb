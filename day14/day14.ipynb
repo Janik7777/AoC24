{
 "cells": [
  {
   "cell_type": "markdown",
   "metadata": {},
   "source": [
    "# Day 14: Restroom Redoubt\n",
    "One of The Historians needs to use the bathroom; fortunately, you know there's a bathroom near an unvisited location on their list, and so you're all quickly teleported directly to the lobby of Easter Bunny Headquarters.\n",
    "\n",
    "Unfortunately, EBHQ seems to have \"improved\" bathroom security again after your last visit. The area outside the bathroom is swarming with robots!\n",
    "\n",
    "To get The Historian safely to the bathroom, you'll need a way to predict where the robots will be in the future. Fortunately, they all seem to be moving on the tile floor in predictable straight lines.\n",
    "\n",
    "You make a list (your puzzle input) of all of the robots' current positions (p) and velocities (v), one robot per line. For example:\n",
    "\n",
    "```\n",
    "p=0,4 v=3,-3\n",
    "p=6,3 v=-1,-3\n",
    "p=10,3 v=-1,2\n",
    "p=2,0 v=2,-1\n",
    "p=0,0 v=1,3\n",
    "p=3,0 v=-2,-2\n",
    "p=7,6 v=-1,-3\n",
    "p=3,0 v=-1,-2\n",
    "p=9,3 v=2,3\n",
    "p=7,3 v=-1,2\n",
    "p=2,4 v=2,-3\n",
    "p=9,5 v=-3,-3\n",
    "```\n",
    "\n",
    "Each robot's position is given as p=x,y where x represents the number of tiles the robot is from the left wall and y represents the number of tiles from the top wall (when viewed from above). So, a position of p=0,0 means the robot is all the way in the top-left corner.\n",
    "\n",
    "Each robot's velocity is given as v=x,y where x and y are given in tiles per second. Positive x means the robot is moving to the right, and positive y means the robot is moving down. So, a velocity of v=1,-2 means that each second, the robot moves 1 tile to the right and 2 tiles up.\n",
    "\n",
    "The robots outside the actual bathroom are in a space which is 101 tiles wide and 103 tiles tall (when viewed from above). However, in this example, the robots are in a space which is only 11 tiles wide and 7 tiles tall.\n",
    "\n",
    "The robots are good at navigating over/under each other (due to a combination of springs, extendable legs, and quadcopters), so they can share the same tile and don't interact with each other. Visually, the number of robots on each tile in this example looks like this:\n",
    "\n",
    "```\n",
    "1.12.......\n",
    "...........\n",
    "...........\n",
    "......11.11\n",
    "1.1........\n",
    ".........1.\n",
    ".......1...\n",
    "```\n",
    "\n",
    "These robots have a unique feature for maximum bathroom security: they can teleport. When a robot would run into an edge of the space they're in, they instead teleport to the other side, effectively wrapping around the edges. Here is what robot p=2,4 v=2,-3 does for the first few seconds:\n",
    "\n",
    "Initial state:\n",
    "```\n",
    "...........\n",
    "...........\n",
    "...........\n",
    "...........\n",
    "..1........\n",
    "...........\n",
    "...........\n",
    "```\n",
    "\n",
    "After 1 second:\n",
    "```\n",
    "...........\n",
    "....1......\n",
    "...........\n",
    "...........\n",
    "...........\n",
    "...........\n",
    "...........\n",
    "```\n",
    "\n",
    "After 2 seconds:\n",
    "```\n",
    "...........\n",
    "...........\n",
    "...........\n",
    "...........\n",
    "...........\n",
    "......1....\n",
    "...........\n",
    "```\n",
    "\n",
    "After 3 seconds:\n",
    "```\n",
    "...........\n",
    "...........\n",
    "........1..\n",
    "...........\n",
    "...........\n",
    "...........\n",
    "...........\n",
    "```\n",
    "\n",
    "After 4 seconds:\n",
    "```\n",
    "...........\n",
    "...........\n",
    "...........\n",
    "...........\n",
    "...........\n",
    "...........\n",
    "..........1\n",
    "```\n",
    "\n",
    "After 5 seconds:\n",
    "```\n",
    "...........\n",
    "...........\n",
    "...........\n",
    ".1.........\n",
    "...........\n",
    "...........\n",
    "...........\n",
    "```\n",
    "\n",
    "The Historian can't wait much longer, so you don't have to simulate the robots for very long. Where will the robots be after 100 seconds?\n",
    "\n",
    "In the above example, the number of robots on each tile after 100 seconds has elapsed looks like this:\n",
    "\n",
    "```\n",
    "......2..1.\n",
    "...........\n",
    "1..........\n",
    ".11........\n",
    ".....1.....\n",
    "...12......\n",
    ".1....1....\n",
    "```\n",
    "\n",
    "To determine the safest area, count the number of robots in each quadrant after 100 seconds. Robots that are exactly in the middle (horizontally or vertically) don't count as being in any quadrant, so the only relevant robots are:\n",
    "\n",
    "```\n",
    "..... 2..1.\n",
    "..... .....\n",
    "1.... .....\n",
    "           \n",
    "..... .....\n",
    "...12 .....\n",
    ".1... 1....\n",
    "```\n",
    "\n",
    "In this example, the quadrants contain 1, 3, 4, and 1 robot. Multiplying these together gives a total safety factor of 12.\n",
    "\n",
    "Predict the motion of the robots in your list within a space which is 101 tiles wide and 103 tiles tall. What will the safety factor be after exactly 100 seconds have elapsed?"
   ]
  },
  {
   "cell_type": "code",
   "execution_count": 3,
   "metadata": {},
   "outputs": [],
   "source": [
    "def result(inputfile, hight, width):\n",
    "\n",
    "    positions = []\n",
    "    velocities = []\n",
    "    with open(inputfile) as f:\n",
    "        for line in f:\n",
    "            pos_part, vel_part = line.strip().split(' ')\n",
    "\n",
    "            pos_part = pos_part.split('=')[1].split(',')\n",
    "            vel_part = vel_part.split('=')[1].split(',')\n",
    "\n",
    "            positions.append(tuple([int(p) for p in pos_part]))\n",
    "            velocities.append(tuple([int(p) for p in vel_part]))\n",
    "\n",
    "    top_left = 0\n",
    "    top_right = 0\n",
    "    bottom_left = 0\n",
    "    bottom_right = 0 \n",
    "    \n",
    "    for i in range(len(positions)):\n",
    "        pos_x, pos_y = positions[i]\n",
    "        vel_x, vel_y = velocities[i]\n",
    "        new_x = (pos_x + 100 * vel_x) % width\n",
    "        new_y = (pos_y + 100 * vel_y) % hight\n",
    "\n",
    "        if new_x < width // 2:\n",
    "            if new_y < hight // 2:\n",
    "                top_left += 1\n",
    "            if new_y > hight // 2:\n",
    "                bottom_left += 1\n",
    "\n",
    "        if new_x > width // 2:\n",
    "            if new_y < hight // 2:\n",
    "                top_right += 1\n",
    "            if new_y > hight // 2:\n",
    "                bottom_right += 1\n",
    "\n",
    "    print(top_left)\n",
    "    print(top_right)\n",
    "    print(bottom_left)\n",
    "    print(bottom_right)\n",
    "\n",
    "    return top_left * top_right * bottom_left * bottom_right"
   ]
  },
  {
   "cell_type": "code",
   "execution_count": 4,
   "metadata": {},
   "outputs": [
    {
     "name": "stdout",
     "output_type": "stream",
     "text": [
      "1\n",
      "3\n",
      "4\n",
      "1\n"
     ]
    },
    {
     "data": {
      "text/plain": [
       "12"
      ]
     },
     "execution_count": 4,
     "metadata": {},
     "output_type": "execute_result"
    }
   ],
   "source": [
    "result(\"example-input.txt\", 7, 11)"
   ]
  },
  {
   "cell_type": "code",
   "execution_count": 5,
   "metadata": {},
   "outputs": [
    {
     "name": "stdout",
     "output_type": "stream",
     "text": [
      "120\n",
      "132\n",
      "133\n",
      "109\n"
     ]
    },
    {
     "data": {
      "text/plain": [
       "229632480"
      ]
     },
     "execution_count": 5,
     "metadata": {},
     "output_type": "execute_result"
    }
   ],
   "source": [
    "result(\"input.txt\", 103, 101)"
   ]
  },
  {
   "cell_type": "markdown",
   "metadata": {},
   "source": [
    "# Part Two\n",
    "During the bathroom break, someone notices that these robots seem awfully similar to ones built and used at the North Pole. If they're the same type of robots, they should have a hard-coded Easter egg: very rarely, most of the robots should arrange themselves into a picture of a Christmas tree.\n",
    "\n",
    "What is the fewest number of seconds that must elapse for the robots to display the Easter egg?"
   ]
  },
  {
   "cell_type": "code",
   "execution_count": 44,
   "metadata": {},
   "outputs": [],
   "source": [
    "from PIL import Image\n",
    "from IPython.display import display\n",
    "\n",
    "def result2(inputfile, hight, width):\n",
    "\n",
    "    positions = []\n",
    "    velocities = []\n",
    "    with open(inputfile) as f:\n",
    "        for line in f:\n",
    "            pos_part, vel_part = line.strip().split(' ')\n",
    "\n",
    "            pos_part = pos_part.split('=')[1].split(',')\n",
    "            vel_part = vel_part.split('=')[1].split(',')\n",
    "\n",
    "            positions.append(tuple([int(p) for p in pos_part]))\n",
    "            velocities.append(tuple([int(p) for p in vel_part]))\n",
    "\n",
    "    top_left = 0\n",
    "    top_right = 0\n",
    "    bottom_left = 0\n",
    "    bottom_right = 0 \n",
    "\n",
    "    j = 0\n",
    "    while(True):\n",
    "        j += 1\n",
    "        img = Image.new(\"1\", (width, hight), \"white\")\n",
    "        pixels = img.load()\n",
    "        in_corner = False\n",
    "        for i in range(len(positions)):\n",
    "            pos_x, pos_y = positions[i]\n",
    "            vel_x, vel_y = velocities[i]\n",
    "            new_x = (pos_x + j * vel_x) % width\n",
    "            new_y = (pos_y + j * vel_y) % hight\n",
    "            pixels[new_x, new_y] = 0\n",
    "\n",
    "            if new_x < width // 2:\n",
    "                if new_y < hight // 2:\n",
    "                    top_left += 1\n",
    "                if new_y > hight // 2:\n",
    "                    bottom_left += 1\n",
    "\n",
    "            if new_x > width // 2:\n",
    "                if new_y < hight // 2:\n",
    "                    top_right += 1\n",
    "                if new_y > hight // 2:\n",
    "                    bottom_right += 1\n",
    "\n",
    "        if j % 101 == 82 and j % 103 == 47:\n",
    "            print(j)\n",
    "            display(img)\n",
    "            print()\n",
    "            return"
   ]
  },
  {
   "cell_type": "code",
   "execution_count": 45,
   "metadata": {},
   "outputs": [
    {
     "name": "stdout",
     "output_type": "stream",
     "text": [
      "7051\n"
     ]
    },
    {
     "data": {
      "image/jpeg": "[encoded data removed]",
      "image/png": "[encoded data removed]",
      "text/plain": [
       "<PIL.Image.Image image mode=1 size=101x103>"
      ]
     },
     "metadata": {},
     "output_type": "display_data"
    },
    {
     "name": "stdout",
     "output_type": "stream",
     "text": [
      "\n"
     ]
    }
   ],
   "source": [
    "result2(\"input.txt\", 103, 101)"
   ]
  }
 ],
 "metadata": {
  "kernelspec": {
   "display_name": "aoc_env",
   "language": "python",
   "name": "python3"
  },
  "language_info": {
   "codemirror_mode": {
    "name": "ipython",
    "version": 3
   },
   "file_extension": ".py",
   "mimetype": "text/x-python",
   "name": "python",
   "nbconvert_exporter": "python",
   "pygments_lexer": "ipython3",
   "version": "3.13.0"
  }
 },
 "nbformat": 4,
 "nbformat_minor": 2
}
